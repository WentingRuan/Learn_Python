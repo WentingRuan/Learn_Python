{
 "cells": [
  {
   "cell_type": "markdown",
   "metadata": {},
   "source": [
    "# hw_13\n",
    "\n",
    "为某个网站的用户购买行为信息,构造合适的分类模型，预测用户最终的购买服务类型.\n",
    "以下数据，第1列为来源网站，第2列为用户所在地区，第3列为是否阅读过FAQ，第4列为浏览网页数，第5列为购买的服务类型（目标变量）,"
   ]
  },
  {
   "cell_type": "code",
   "execution_count": 127,
   "metadata": {},
   "outputs": [],
   "source": [
    "import numpy as np\n",
    "from sklearn.neighbors import KNeighborsClassifier\n",
    "from sklearn.metrics import precision_recall_curve\n",
    "from sklearn.metrics import classification_report\n",
    "from sklearn.naive_bayes import BernoulliNB\n",
    "from sklearn.feature_extraction.text import TfidfVectorizer\n",
    "from sklearn.cross_validation import train_test_split\n",
    "import matplotlib.pyplot as plt\n",
    "import pandas as pd\n",
    "import os\n",
    "\n",
    "my_data=[['slashdot','USA','yes',18,'None'],\n",
    "         ['google','France','yes',23,'Premium'],\n",
    "         ['digg','USA','yes',24,'Basic'],\n",
    "         ['kiwitobes','France','yes',23,'Basic'],\n",
    "         ['google','UK','no',21,'Premium'],\n",
    "         ['(direct)','New Zealand','no',12,'None'],\n",
    "         ['(direct)','UK','no',21,'Basic'],\n",
    "         ['google','USA','no',24,'Premium'],\n",
    "         ['slashdot','France','yes',19,'None'],\n",
    "         ['digg','USA','no',18,'None'],\n",
    "         ['google','UK','no',18,'None'],\n",
    "         ['kiwitobes','UK','no',19,'None'],\n",
    "         ['digg','New Zealand','yes',12,'Basic'],\n",
    "         ['slashdot','UK','no',21,'None'],\n",
    "         ['google','UK','yes',18,'Basic'],\n",
    "         ['kiwitobes','France','yes',19,'Basic']]"
   ]
  },
  {
   "cell_type": "code",
   "execution_count": 128,
   "metadata": {},
   "outputs": [
    {
     "data": {
      "text/html": [
       "<div>\n",
       "<style scoped>\n",
       "    .dataframe tbody tr th:only-of-type {\n",
       "        vertical-align: middle;\n",
       "    }\n",
       "\n",
       "    .dataframe tbody tr th {\n",
       "        vertical-align: top;\n",
       "    }\n",
       "\n",
       "    .dataframe thead th {\n",
       "        text-align: right;\n",
       "    }\n",
       "</style>\n",
       "<table border=\"1\" class=\"dataframe\">\n",
       "  <thead>\n",
       "    <tr style=\"text-align: right;\">\n",
       "      <th></th>\n",
       "      <th>website</th>\n",
       "      <th>area</th>\n",
       "      <th>read FAQ?</th>\n",
       "      <th>Page Views</th>\n",
       "      <th>Buying Type</th>\n",
       "    </tr>\n",
       "  </thead>\n",
       "  <tbody>\n",
       "    <tr>\n",
       "      <th>0</th>\n",
       "      <td>slashdot</td>\n",
       "      <td>USA</td>\n",
       "      <td>yes</td>\n",
       "      <td>18</td>\n",
       "      <td>None</td>\n",
       "    </tr>\n",
       "    <tr>\n",
       "      <th>1</th>\n",
       "      <td>google</td>\n",
       "      <td>France</td>\n",
       "      <td>yes</td>\n",
       "      <td>23</td>\n",
       "      <td>Premium</td>\n",
       "    </tr>\n",
       "    <tr>\n",
       "      <th>2</th>\n",
       "      <td>digg</td>\n",
       "      <td>USA</td>\n",
       "      <td>yes</td>\n",
       "      <td>24</td>\n",
       "      <td>Basic</td>\n",
       "    </tr>\n",
       "    <tr>\n",
       "      <th>3</th>\n",
       "      <td>kiwitobes</td>\n",
       "      <td>France</td>\n",
       "      <td>yes</td>\n",
       "      <td>23</td>\n",
       "      <td>Basic</td>\n",
       "    </tr>\n",
       "    <tr>\n",
       "      <th>4</th>\n",
       "      <td>google</td>\n",
       "      <td>UK</td>\n",
       "      <td>no</td>\n",
       "      <td>21</td>\n",
       "      <td>Premium</td>\n",
       "    </tr>\n",
       "  </tbody>\n",
       "</table>\n",
       "</div>"
      ],
      "text/plain": [
       "     website    area read FAQ?  Page Views Buying Type\n",
       "0   slashdot     USA       yes          18        None\n",
       "1     google  France       yes          23     Premium\n",
       "2       digg     USA       yes          24       Basic\n",
       "3  kiwitobes  France       yes          23       Basic\n",
       "4     google      UK        no          21     Premium"
      ]
     },
     "execution_count": 128,
     "metadata": {},
     "output_type": "execute_result"
    }
   ],
   "source": [
    "data = pd.DataFrame(my_data)\n",
    "data.columns= [\"website\",\"area\",\n",
    "                      \"read FAQ?\",\"Page Views\",\"Buying Type\"]\n",
    "data.head()"
   ]
  },
  {
   "cell_type": "code",
   "execution_count": 129,
   "metadata": {},
   "outputs": [
    {
     "data": {
      "text/html": [
       "<div>\n",
       "<style scoped>\n",
       "    .dataframe tbody tr th:only-of-type {\n",
       "        vertical-align: middle;\n",
       "    }\n",
       "\n",
       "    .dataframe tbody tr th {\n",
       "        vertical-align: top;\n",
       "    }\n",
       "\n",
       "    .dataframe thead th {\n",
       "        text-align: right;\n",
       "    }\n",
       "</style>\n",
       "<table border=\"1\" class=\"dataframe\">\n",
       "  <thead>\n",
       "    <tr style=\"text-align: right;\">\n",
       "      <th></th>\n",
       "      <th>website</th>\n",
       "      <th>area</th>\n",
       "      <th>read FAQ?</th>\n",
       "      <th>Page Views</th>\n",
       "      <th>Buying Type</th>\n",
       "    </tr>\n",
       "  </thead>\n",
       "  <tbody>\n",
       "    <tr>\n",
       "      <th>0</th>\n",
       "      <td>-1</td>\n",
       "      <td>1</td>\n",
       "      <td>1</td>\n",
       "      <td>-1</td>\n",
       "      <td>-1</td>\n",
       "    </tr>\n",
       "    <tr>\n",
       "      <th>1</th>\n",
       "      <td>-1</td>\n",
       "      <td>-1</td>\n",
       "      <td>1</td>\n",
       "      <td>-1</td>\n",
       "      <td>1</td>\n",
       "    </tr>\n",
       "    <tr>\n",
       "      <th>2</th>\n",
       "      <td>-1</td>\n",
       "      <td>1</td>\n",
       "      <td>1</td>\n",
       "      <td>-1</td>\n",
       "      <td>1</td>\n",
       "    </tr>\n",
       "    <tr>\n",
       "      <th>3</th>\n",
       "      <td>-1</td>\n",
       "      <td>-1</td>\n",
       "      <td>1</td>\n",
       "      <td>-1</td>\n",
       "      <td>1</td>\n",
       "    </tr>\n",
       "    <tr>\n",
       "      <th>4</th>\n",
       "      <td>-1</td>\n",
       "      <td>-1</td>\n",
       "      <td>-1</td>\n",
       "      <td>-1</td>\n",
       "      <td>1</td>\n",
       "    </tr>\n",
       "  </tbody>\n",
       "</table>\n",
       "</div>"
      ],
      "text/plain": [
       "   website  area  read FAQ?  Page Views  Buying Type\n",
       "0       -1     1          1          -1           -1\n",
       "1       -1    -1          1          -1            1\n",
       "2       -1     1          1          -1            1\n",
       "3       -1    -1          1          -1            1\n",
       "4       -1    -1         -1          -1            1"
      ]
     },
     "execution_count": 129,
     "metadata": {},
     "output_type": "execute_result"
    }
   ],
   "source": [
    "\n",
    "# 数据是类别标签，要将它转换为数据\n",
    "# website, 按照有无浏览网站分为2类\n",
    "data.replace('(direct)',-1, inplace=True)\n",
    "data.replace(['slashdot','google','digg','kiwitobes'],-1, inplace=True)\n",
    "\n",
    "# area，按照欧洲，美洲进行划分\n",
    "data.replace(['France','New Zealand','UK'],-1, inplace=True)\n",
    "data.replace(['USA'],1, inplace=True)\n",
    "\n",
    "\n",
    "# READ FAQ?\n",
    "data.replace(['yes'],1, inplace=True)\n",
    "data.replace(['no'],-1, inplace=True)\n",
    "\n",
    "# Page Views, 20次作为分水岭\n",
    "data.loc[data.iloc[:,3] >= 20,'Page Views'] = 1\n",
    "data.loc[data.iloc[:,3] < 20,'Page Views'] = -1\n",
    "\n",
    "# Buying Type，按照买或者没买划分\n",
    "data.loc[data.iloc[:,4] != 'None','Buying Type'] = 1\n",
    "data.loc[data.iloc[:,4] == 'None','Buying Type'] = -1\n",
    "\n",
    "x = data.iloc[:,:4].as_matrix().astype(int)\n",
    "y = data.iloc[:,4].as_matrix().astype(int)\n",
    "data.head()"
   ]
  },
  {
   "cell_type": "code",
   "execution_count": 130,
   "metadata": {},
   "outputs": [],
   "source": [
    "#拆分训练数据与测试数据 \n",
    "x_train, x_test, y_train, y_test = train_test_split(x, y, test_size = 0.2)"
   ]
  },
  {
   "cell_type": "code",
   "execution_count": 137,
   "metadata": {},
   "outputs": [
    {
     "name": "stdout",
     "output_type": "stream",
     "text": [
      "x_test: \n",
      " [[-1 -1 -1 -1]\n",
      " [-1 -1 -1 -1]\n",
      " [-1  1  1 -1]\n",
      " [-1 -1 -1 -1]] \n",
      "\n",
      "answer: \n",
      " [-1 -1 -1 -1] \n",
      "\n",
      "y_test: \n",
      " [-1  1  1  1] \n",
      "\n",
      "np.mean( answer == y_test): \n",
      " 0.25 \n",
      "\n",
      "classification_report: \n",
      "              precision    recall  f1-score   support\n",
      "\n",
      "         不买       0.25      1.00      0.40         1\n",
      "          买       0.00      0.00      0.00         3\n",
      "\n",
      "avg / total       0.06      0.25      0.10         4\n",
      "\n"
     ]
    },
    {
     "name": "stderr",
     "output_type": "stream",
     "text": [
      "C:\\Anaconda3\\lib\\site-packages\\sklearn\\metrics\\classification.py:1135: UndefinedMetricWarning: Precision and F-score are ill-defined and being set to 0.0 in labels with no predicted samples.\n",
      "  'precision', 'predicted', average, warn_for)\n"
     ]
    }
   ],
   "source": [
    "#训练KNN分类器 \n",
    "knl = KNeighborsClassifier(algorithm='kd_tree')\n",
    "knl.fit(x_train, y_train)\n",
    "\n",
    "#测试结果\n",
    "answer = knl.predict(x_test)\n",
    "print(\"x_test: \\n\",x_test,\"\\n\")\n",
    "print(\"answer: \\n\",answer,\"\\n\")\n",
    "print(\"y_test: \\n\",y_test,\"\\n\")\n",
    "print(\"np.mean( answer == y_test): \\n\",np.mean( answer == y_test),\"\\n\")\n",
    "\n",
    "#准确率\n",
    "precision, recall, thresholds = precision_recall_curve(y_train, knl.predict(x_train))\n",
    "print(\"classification_report: \\n\",classification_report(y_test, answer, target_names = ['不买', '买']))"
   ]
  },
  {
   "cell_type": "code",
   "execution_count": 149,
   "metadata": {},
   "outputs": [
    {
     "name": "stdout",
     "output_type": "stream",
     "text": [
      "x_test: \n",
      " [[-1 -1 -1 -1]\n",
      " [-1 -1 -1 -1]\n",
      " [-1  1  1 -1]\n",
      " [-1 -1 -1 -1]] \n",
      "\n",
      "answer: \n",
      " [-1 -1  1 -1] \n",
      "\n",
      "y_test: \n",
      " [-1  1  1  1] \n",
      "\n",
      "np.mean( answer == y_test): \n",
      " 0.5 \n",
      "\n",
      "classification_report: \n",
      "              precision    recall  f1-score   support\n",
      "\n",
      "         不买       0.33      1.00      0.50         1\n",
      "          买       1.00      0.33      0.50         3\n",
      "\n",
      "avg / total       0.83      0.50      0.50         4\n",
      "\n"
     ]
    }
   ],
   "source": [
    "####贝叶斯分类器####\n",
    "#训练贝叶斯分类器\n",
    "bnb = BernoulliNB() \n",
    "bnb.fit(x_train,y_train)\n",
    "\n",
    "\n",
    "#测试结果\n",
    "answer = bnb.predict(x_test)\n",
    "print(\"x_test: \\n\",x_test,\"\\n\")\n",
    "print(\"answer: \\n\",answer,\"\\n\")\n",
    "print(\"y_test: \\n\",y_test,\"\\n\")\n",
    "print(\"np.mean( answer == y_test): \\n\",np.mean( answer == y_test),\"\\n\")\n",
    "\n",
    "print(\"classification_report: \\n\",classification_report(y_test, answer, target_names = ['不买', '买']))"
   ]
  },
  {
   "cell_type": "code",
   "execution_count": 147,
   "metadata": {},
   "outputs": [
    {
     "name": "stdout",
     "output_type": "stream",
     "text": [
      "x_test: \n",
      " [[-1 -1 -1 -1]\n",
      " [-1 -1 -1 -1]\n",
      " [-1  1  1 -1]\n",
      " [-1 -1 -1 -1]] \n",
      "\n",
      "answer: \n",
      " [-1 -1 -1 -1] \n",
      "\n",
      "y_test: \n",
      " [-1  1  1  1] \n",
      "\n",
      "np.mean( answer == y_test): \n",
      " 0.25 \n",
      "\n",
      "classification_report: \n",
      "              precision    recall  f1-score   support\n",
      "\n",
      "         不买       0.25      1.00      0.40         1\n",
      "          买       0.00      0.00      0.00         3\n",
      "\n",
      "avg / total       0.06      0.25      0.10         4\n",
      "\n"
     ]
    },
    {
     "name": "stderr",
     "output_type": "stream",
     "text": [
      "C:\\Anaconda3\\lib\\site-packages\\sklearn\\metrics\\classification.py:1135: UndefinedMetricWarning: Precision and F-score are ill-defined and being set to 0.0 in labels with no predicted samples.\n",
      "  'precision', 'predicted', average, warn_for)\n"
     ]
    }
   ],
   "source": [
    "####决策树####\n",
    "from sklearn.tree import DecisionTreeClassifier as DTC\n",
    "dtc = DTC(criterion='entropy') #建立决策树模型，基于信息熵\n",
    "dtc.fit(x_train, y_train) #训练模型\n",
    "\n",
    "#导入相关函数，可视化决策树。\n",
    "#导出的结果是一个dot文件，需要安装Graphviz才能将它转换为pdf或png等格式。\n",
    "from sklearn.tree import export_graphviz\n",
    "from sklearn.externals.six import StringIO\n",
    "with open(\"tree.dot\", 'w') as f:\n",
    "  f = export_graphviz(dtc, out_file = f)\n",
    "\n",
    "\n",
    "#测试结果\n",
    "answer = dtc.predict(x_test)\n",
    "\n",
    "print(\"x_test: \\n\",x_test,\"\\n\")\n",
    "print(\"answer: \\n\",answer,\"\\n\")\n",
    "print(\"y_test: \\n\",y_test,\"\\n\")\n",
    "print(\"np.mean( answer == y_test): \\n\",np.mean( answer == y_test),\"\\n\")\n",
    "print(\"classification_report: \\n\",classification_report(y_test, answer, target_names = ['不买', '买']))"
   ]
  },
  {
   "cell_type": "code",
   "execution_count": 144,
   "metadata": {},
   "outputs": [
    {
     "data": {
      "image/png": "[encoded data removed]",
      "text/plain": [
       "<IPython.core.display.Image object>"
      ]
     },
     "execution_count": 144,
     "metadata": {},
     "output_type": "execute_result"
    }
   ],
   "source": [
    "import sklearn.tree as tree\n",
    "import pydotplus \n",
    "from IPython.display import Image\n",
    "\n",
    "#os.environ[\"PATH\"] += os.pathsep + 'C:/Program Files (x86)/Graphviz2.38/bin/'\n",
    "\n",
    "#dtc = DTC(criterion='entropy') #建立决策树模型，基于信息熵\n",
    "#dtc_fit = dtc.fit(x_train, y_train) \n",
    "\n",
    "clf= DTC(criterion='entropy')\n",
    "clf_fit=clf.fit(x_train, y_train) \n",
    "\n",
    "dot_data = tree.export_graphviz(clf_fit, \n",
    "                                out_file=None,\n",
    "                                feature_names=[\"website\",\"area\",\"read FAQ?\",\"Page Views\"], \n",
    "                                class_names=[\"Bought\",\"None\"], \n",
    "                                filled=True, rounded=True, \n",
    "                                special_characters=True) \n",
    "graph = pydotplus.graph_from_dot_data(dot_data) \n",
    "Image(graph.create_png())"
   ]
  },
  {
   "cell_type": "code",
   "execution_count": 146,
   "metadata": {},
   "outputs": [
    {
     "name": "stdout",
     "output_type": "stream",
     "text": [
      "x_test: \n",
      " [[-1 -1 -1 -1]\n",
      " [-1 -1 -1 -1]\n",
      " [-1  1  1 -1]\n",
      " [-1 -1 -1 -1]] \n",
      "\n",
      "answer: \n",
      " [-1 -1 -1 -1] \n",
      "\n",
      "y_test: \n",
      " [-1  1  1  1] \n",
      "\n",
      "np.mean( answer == y_test): \n",
      " 0.25 \n",
      "\n",
      "classification_report: \n",
      "              precision    recall  f1-score   support\n",
      "\n",
      "         不买       0.25      1.00      0.40         1\n",
      "          买       0.00      0.00      0.00         3\n",
      "\n",
      "avg / total       0.06      0.25      0.10         4\n",
      "\n"
     ]
    },
    {
     "name": "stderr",
     "output_type": "stream",
     "text": [
      "C:\\Anaconda3\\lib\\site-packages\\sklearn\\metrics\\classification.py:1135: UndefinedMetricWarning: Precision and F-score are ill-defined and being set to 0.0 in labels with no predicted samples.\n",
      "  'precision', 'predicted', average, warn_for)\n"
     ]
    }
   ],
   "source": [
    "####SVM####\n",
    "from sklearn.svm import SVC\n",
    "svc =SVC() #线性可分时，使用SVC\n",
    "svc.fit(x_train, y_train)  \n",
    "\n",
    "#测试结果\n",
    "answer = svc.predict(x_test)\n",
    "\n",
    "print(\"x_test: \\n\",x_test,\"\\n\")\n",
    "print(\"answer: \\n\",answer,\"\\n\")\n",
    "print(\"y_test: \\n\",y_test,\"\\n\")\n",
    "print(\"np.mean( answer == y_test): \\n\",np.mean( answer == y_test),\"\\n\")\n",
    "\n",
    "print(\"classification_report: \\n\",classification_report(y_test, answer, target_names = ['不买', '买']))"
   ]
  },
  {
   "cell_type": "code",
   "execution_count": null,
   "metadata": {},
   "outputs": [],
   "source": []
  }
 ],
 "metadata": {
  "kernelspec": {
   "display_name": "Python 3",
   "language": "python",
   "name": "python3"
  },
  "language_info": {
   "codemirror_mode": {
    "name": "ipython",
    "version": 3
   },
   "file_extension": ".py",
   "mimetype": "text/x-python",
   "name": "python",
   "nbconvert_exporter": "python",
   "pygments_lexer": "ipython3",
   "version": "3.6.4"
  }
 },
 "nbformat": 4,
 "nbformat_minor": 2
}
