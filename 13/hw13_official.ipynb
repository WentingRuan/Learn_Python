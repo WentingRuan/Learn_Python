{
 "cells": [
  {
   "cell_type": "code",
   "execution_count": 1,
   "metadata": {},
   "outputs": [
    {
     "name": "stderr",
     "output_type": "stream",
     "text": [
      "C:\\Anaconda3\\lib\\site-packages\\sklearn\\cross_validation.py:41: DeprecationWarning: This module was deprecated in version 0.18 in favor of the model_selection module into which all the refactored classes and functions are moved. Also note that the interface of the new CV iterators are different from that of this module. This module will be removed in 0.20.\n",
      "  \"This module will be removed in 0.20.\", DeprecationWarning)\n"
     ]
    }
   ],
   "source": [
    "# -*- coding: utf-8 -*-\n",
    "\"\"\"\n",
    "Created on Wed Jul 13 14:43:25 2016\n",
    "\n",
    "@author: Administrator\n",
    "\"\"\"\n",
    "import numpy as np\n",
    "from sklearn.neighbors import KNeighborsClassifier\n",
    "from sklearn.metrics import precision_recall_curve\n",
    "from sklearn.metrics import classification_report\n",
    "from sklearn.naive_bayes import BernoulliNB\n",
    "from sklearn.feature_extraction.text import TfidfVectorizer\n",
    "from sklearn.cross_validation import train_test_split\n",
    "import matplotlib.pyplot as plt\n",
    "import pandas as pd\n",
    "from sklearn.tree import DecisionTreeClassifier as DTC\n",
    "\n",
    "my_data=[['slashdot','USA','yes',18,'None'], \n",
    "\n",
    "['google','France','yes',23,'Premium'], \n",
    "\n",
    "['digg','USA','yes',24,'Basic'], \n",
    "\n",
    "['kiwitobes','France','yes',23,'Basic'], \n",
    "\n",
    "['google','UK','no',21,'Premium'], \n",
    "\n",
    "['(direct)','New Zealand','no',12,'None'], \n",
    "\n",
    "['(direct)','UK','no',21,'Basic'], \n",
    "\n",
    "['google','USA','no',24,'Premium'], \n",
    "\n",
    "['slashdot','France','yes',19,'None'], \n",
    "\n",
    "['digg','USA','no',18,'None'], \n",
    "\n",
    "['google','UK','no',18,'None'], \n",
    "\n",
    "['kiwitobes','UK','no',19,'None'], \n",
    "\n",
    "['digg','New Zealand','yes',12,'Basic'], \n",
    "\n",
    "['slashdot','UK','no',21,'None'], \n",
    "\n",
    "['google','UK','yes',18,'Basic'], \n",
    "\n",
    "['kiwitobes','France','yes',19,'Basic']]"
   ]
  },
  {
   "cell_type": "code",
   "execution_count": 2,
   "metadata": {},
   "outputs": [
    {
     "data": {
      "text/html": [
       "<div>\n",
       "<style scoped>\n",
       "    .dataframe tbody tr th:only-of-type {\n",
       "        vertical-align: middle;\n",
       "    }\n",
       "\n",
       "    .dataframe tbody tr th {\n",
       "        vertical-align: top;\n",
       "    }\n",
       "\n",
       "    .dataframe thead th {\n",
       "        text-align: right;\n",
       "    }\n",
       "</style>\n",
       "<table border=\"1\" class=\"dataframe\">\n",
       "  <thead>\n",
       "    <tr style=\"text-align: right;\">\n",
       "      <th></th>\n",
       "      <th>website</th>\n",
       "      <th>region</th>\n",
       "      <th>isFAQ</th>\n",
       "      <th>page</th>\n",
       "      <th>ser</th>\n",
       "    </tr>\n",
       "  </thead>\n",
       "  <tbody>\n",
       "    <tr>\n",
       "      <th>0</th>\n",
       "      <td>4</td>\n",
       "      <td>3</td>\n",
       "      <td>1</td>\n",
       "      <td>18</td>\n",
       "      <td>1</td>\n",
       "    </tr>\n",
       "    <tr>\n",
       "      <th>1</th>\n",
       "      <td>2</td>\n",
       "      <td>0</td>\n",
       "      <td>1</td>\n",
       "      <td>23</td>\n",
       "      <td>2</td>\n",
       "    </tr>\n",
       "    <tr>\n",
       "      <th>2</th>\n",
       "      <td>1</td>\n",
       "      <td>3</td>\n",
       "      <td>1</td>\n",
       "      <td>24</td>\n",
       "      <td>0</td>\n",
       "    </tr>\n",
       "    <tr>\n",
       "      <th>3</th>\n",
       "      <td>3</td>\n",
       "      <td>0</td>\n",
       "      <td>1</td>\n",
       "      <td>23</td>\n",
       "      <td>0</td>\n",
       "    </tr>\n",
       "    <tr>\n",
       "      <th>4</th>\n",
       "      <td>2</td>\n",
       "      <td>2</td>\n",
       "      <td>0</td>\n",
       "      <td>21</td>\n",
       "      <td>2</td>\n",
       "    </tr>\n",
       "  </tbody>\n",
       "</table>\n",
       "</div>"
      ],
      "text/plain": [
       "   website  region  isFAQ  page  ser\n",
       "0        4       3      1    18    1\n",
       "1        2       0      1    23    2\n",
       "2        1       3      1    24    0\n",
       "3        3       0      1    23    0\n",
       "4        2       2      0    21    2"
      ]
     },
     "execution_count": 2,
     "metadata": {},
     "output_type": "execute_result"
    }
   ],
   "source": [
    "#数据预处理\n",
    "data = pd.DataFrame(my_data)\n",
    "data.columns = ['website','region','isFAQ','page','ser']\n",
    "data2=data.copy()\n",
    "for i in data.columns[data.columns!='page']:\n",
    "    n=len(data[i].unique())\n",
    "    data2[i]=pd.DataFrame(pd.get_dummies(data[i])*range(n)).apply(max,axis=1)\n",
    "    \n",
    "data2.head()"
   ]
  },
  {
   "cell_type": "code",
   "execution_count": 3,
   "metadata": {},
   "outputs": [
    {
     "name": "stdout",
     "output_type": "stream",
     "text": [
      "0.625\n",
      "             precision    recall  f1-score   support\n",
      "\n",
      "       None       1.00      0.17      0.29         6\n",
      "    Premium       0.64      1.00      0.78         7\n",
      "      Basic       0.50      0.67      0.57         3\n",
      "\n",
      "avg / total       0.75      0.62      0.55        16\n",
      "\n"
     ]
    }
   ],
   "source": [
    "x = data2.iloc[:,:4]\n",
    "y = data2.iloc[:,4]\n",
    "\n",
    "x=x.as_matrix().astype(int)\n",
    "y=y.as_matrix().astype(int)\n",
    "\n",
    "####KNN分类器 #####\n",
    "#训练KNN分类器 \n",
    "knn = KNeighborsClassifier(algorithm='kd_tree')\n",
    "knn.fit(x, y)\n",
    "#测试结果\n",
    "answer = knn.predict(x)\n",
    "print(np.mean( answer == y))\n",
    "print(classification_report(y, answer, target_names = ['None', 'Premium','Basic']))"
   ]
  },
  {
   "cell_type": "code",
   "execution_count": 4,
   "metadata": {},
   "outputs": [
    {
     "name": "stdout",
     "output_type": "stream",
     "text": [
      "0.625\n",
      "             precision    recall  f1-score   support\n",
      "\n",
      "       None       0.62      0.83      0.71         6\n",
      "    Premium       0.62      0.71      0.67         7\n",
      "      Basic       0.00      0.00      0.00         3\n",
      "\n",
      "avg / total       0.51      0.62      0.56        16\n",
      "\n"
     ]
    },
    {
     "name": "stderr",
     "output_type": "stream",
     "text": [
      "C:\\Anaconda3\\lib\\site-packages\\sklearn\\metrics\\classification.py:1135: UndefinedMetricWarning: Precision and F-score are ill-defined and being set to 0.0 in labels with no predicted samples.\n",
      "  'precision', 'predicted', average, warn_for)\n"
     ]
    }
   ],
   "source": [
    "####贝叶斯分类器####\n",
    "#训练贝叶斯分类器\n",
    "Ber = BernoulliNB() \n",
    "Ber.fit(x,y)\n",
    "#测试结果\n",
    "answer = Ber.predict(x)\n",
    "print(np.mean( answer == y))\n",
    "print(classification_report(y, answer, target_names = ['None', 'Premium','Basic']))"
   ]
  },
  {
   "cell_type": "code",
   "execution_count": 5,
   "metadata": {},
   "outputs": [
    {
     "name": "stdout",
     "output_type": "stream",
     "text": [
      "1.0\n",
      "             precision    recall  f1-score   support\n",
      "\n",
      "       None       1.00      1.00      1.00         6\n",
      "    Premium       1.00      1.00      1.00         7\n",
      "      Basic       1.00      1.00      1.00         3\n",
      "\n",
      "avg / total       1.00      1.00      1.00        16\n",
      "\n"
     ]
    }
   ],
   "source": [
    "####决策树####\n",
    "dtc = DTC(criterion='entropy') #建立决策树模型，基于信息熵\n",
    "dtc.fit(x, y) #训练模型\n",
    "\n",
    "#测试结果\n",
    "answer = dtc.predict(x)\n",
    "print(np.mean( answer == y))\n",
    "print(classification_report(y, answer, target_names = ['None', 'Premium','Basic']))"
   ]
  },
  {
   "cell_type": "code",
   "execution_count": 6,
   "metadata": {},
   "outputs": [
    {
     "name": "stdout",
     "output_type": "stream",
     "text": [
      "0.8125\n",
      "             precision    recall  f1-score   support\n",
      "\n",
      "       None       0.71      0.83      0.77         6\n",
      "    Premium       0.88      1.00      0.93         7\n",
      "      Basic       1.00      0.33      0.50         3\n",
      "\n",
      "avg / total       0.84      0.81      0.79        16\n",
      "\n"
     ]
    }
   ],
   "source": [
    "####SVM####\n",
    "from sklearn.svm import SVC\n",
    "svc =SVC()\n",
    "svc.fit(x, y)  \n",
    "\n",
    "#测试结果\n",
    "answer = svc.predict(x)\n",
    "print(np.mean( answer == y))\n",
    "print(classification_report(y, answer, target_names = ['None', 'Premium','Basic']))"
   ]
  },
  {
   "cell_type": "code",
   "execution_count": null,
   "metadata": {},
   "outputs": [],
   "source": []
  }
 ],
 "metadata": {
  "kernelspec": {
   "display_name": "Python 3",
   "language": "python",
   "name": "python3"
  },
  "language_info": {
   "codemirror_mode": {
    "name": "ipython",
    "version": 3
   },
   "file_extension": ".py",
   "mimetype": "text/x-python",
   "name": "python",
   "nbconvert_exporter": "python",
   "pygments_lexer": "ipython3",
   "version": "3.6.4"
  }
 },
 "nbformat": 4,
 "nbformat_minor": 2
}
