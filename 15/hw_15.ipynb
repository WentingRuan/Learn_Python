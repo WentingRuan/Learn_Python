{
 "cells": [
  {
   "cell_type": "markdown",
   "metadata": {},
   "source": [
    "# hw_15\n",
    "ex15.txt 记录了进口总额Y与三个自变量：国内生产总值X1、存储量X2、总消费X3 的值。\n",
    "\n",
    "先对自变量进行主成分法分析，然后将得到的主成分与Y进行回归分析\n",
    "\n",
    "试比较与直接进行回归分析所得到的结果差异，说说哪个模型的拟合效果比较好"
   ]
  },
  {
   "cell_type": "markdown",
   "metadata": {},
   "source": [
    "## 读入数据"
   ]
  },
  {
   "cell_type": "code",
   "execution_count": 47,
   "metadata": {},
   "outputs": [],
   "source": [
    "import pandas as pd\n",
    "from datetime import datetime \n",
    "from sklearn.decomposition import PCA,FactorAnalysis\n",
    "import matplotlib.pyplot as plt\n",
    "\n",
    "#读入数据\n",
    "data=pd.read_table(\"./ex15.txt\",sep=\" \")\n",
    "data.shape"
   ]
  },
  {
   "cell_type": "code",
   "execution_count": 48,
   "metadata": {},
   "outputs": [
    {
     "data": {
      "text/html": [
       "<div>\n",
       "<style scoped>\n",
       "    .dataframe tbody tr th:only-of-type {\n",
       "        vertical-align: middle;\n",
       "    }\n",
       "\n",
       "    .dataframe tbody tr th {\n",
       "        vertical-align: top;\n",
       "    }\n",
       "\n",
       "    .dataframe thead th {\n",
       "        text-align: right;\n",
       "    }\n",
       "</style>\n",
       "<table border=\"1\" class=\"dataframe\">\n",
       "  <thead>\n",
       "    <tr style=\"text-align: right;\">\n",
       "      <th></th>\n",
       "      <th>x1</th>\n",
       "      <th>x2</th>\n",
       "      <th>x3</th>\n",
       "      <th>y</th>\n",
       "    </tr>\n",
       "  </thead>\n",
       "  <tbody>\n",
       "    <tr>\n",
       "      <th>1</th>\n",
       "      <td>149.3</td>\n",
       "      <td>4.2</td>\n",
       "      <td>108.1</td>\n",
       "      <td>15.9</td>\n",
       "    </tr>\n",
       "    <tr>\n",
       "      <th>2</th>\n",
       "      <td>161.2</td>\n",
       "      <td>4.1</td>\n",
       "      <td>114.8</td>\n",
       "      <td>16.4</td>\n",
       "    </tr>\n",
       "    <tr>\n",
       "      <th>3</th>\n",
       "      <td>171.5</td>\n",
       "      <td>3.1</td>\n",
       "      <td>123.2</td>\n",
       "      <td>19.0</td>\n",
       "    </tr>\n",
       "    <tr>\n",
       "      <th>4</th>\n",
       "      <td>175.5</td>\n",
       "      <td>3.1</td>\n",
       "      <td>126.9</td>\n",
       "      <td>19.1</td>\n",
       "    </tr>\n",
       "    <tr>\n",
       "      <th>5</th>\n",
       "      <td>180.8</td>\n",
       "      <td>1.1</td>\n",
       "      <td>132.1</td>\n",
       "      <td>18.8</td>\n",
       "    </tr>\n",
       "  </tbody>\n",
       "</table>\n",
       "</div>"
      ],
      "text/plain": [
       "      x1   x2     x3     y\n",
       "1  149.3  4.2  108.1  15.9\n",
       "2  161.2  4.1  114.8  16.4\n",
       "3  171.5  3.1  123.2  19.0\n",
       "4  175.5  3.1  126.9  19.1\n",
       "5  180.8  1.1  132.1  18.8"
      ]
     },
     "execution_count": 48,
     "metadata": {},
     "output_type": "execute_result"
    }
   ],
   "source": [
    "data.head()"
   ]
  },
  {
   "cell_type": "markdown",
   "metadata": {},
   "source": [
    "# 先做主成分分析"
   ]
  },
  {
   "cell_type": "code",
   "execution_count": 139,
   "metadata": {},
   "outputs": [
    {
     "name": "stdout",
     "output_type": "stream",
     "text": [
      "          x1        x2        x3         y\n",
      "x1  1.000000  0.025851  0.997261  0.965278\n",
      "x2  0.025851  1.000000  0.035673  0.250747\n",
      "x3  0.997261  0.035673  1.000000  0.971869\n",
      "y   0.965278  0.250747  0.971869  1.000000\n"
     ]
    }
   ],
   "source": [
    "#协方差矩阵\n",
    "cor_mat=data.corr()\n",
    "print (cor_mat)"
   ]
  },
  {
   "cell_type": "code",
   "execution_count": 143,
   "metadata": {},
   "outputs": [
    {
     "name": "stdout",
     "output_type": "stream",
     "text": [
      "[0.99586179 0.00291612 0.00113645]\n"
     ]
    }
   ],
   "source": [
    "#主成分分析\n",
    "pca3 = PCA(n_components=3)\n",
    "m3 = pca3.fit_transform(data)\n",
    "print (pca3.explained_variance_ratio_, sep = \",\")"
   ]
  },
  {
   "cell_type": "code",
   "execution_count": 144,
   "metadata": {},
   "outputs": [
    {
     "name": "stdout",
     "output_type": "stream",
     "text": [
      "[0.99586179 0.00291612]\n"
     ]
    }
   ],
   "source": [
    "pca2=PCA(n_components=2)\n",
    "m2 = pca2.fit_transform(data)\n",
    "print (pca2.explained_variance_ratio_, sep = \",\")"
   ]
  },
  {
   "cell_type": "code",
   "execution_count": 145,
   "metadata": {},
   "outputs": [
    {
     "name": "stdout",
     "output_type": "stream",
     "text": [
      "[0.99586179]\n"
     ]
    }
   ],
   "source": [
    "pca1 = PCA(n_components=1)\n",
    "m1 = pca1.fit_transform(data)\n",
    "print (pca1.explained_variance_ratio_, sep = \",\")"
   ]
  },
  {
   "cell_type": "markdown",
   "metadata": {},
   "source": [
    "## 再做逻辑回归"
   ]
  },
  {
   "cell_type": "code",
   "execution_count": 146,
   "metadata": {},
   "outputs": [
    {
     "name": "stdout",
     "output_type": "stream",
     "text": [
      "x shape: \n",
      " (11, 1)\n",
      "y shape: \n",
      " (11,)\n"
     ]
    }
   ],
   "source": [
    "#x = m1\n",
    "x = m1.reshape(-1, 1)\n",
    "print(\"x shape: \\n\",x.shape)\n",
    "\n",
    "y = data.iloc[:,3].as_matrix()\n",
    "print(\"y shape: \\n\",y.shape)\n",
    "\n",
    "from sklearn.linear_model import LinearRegression\n",
    "linreg = LinearRegression()\n",
    "\n",
    "linreg.fit(x,y)\n",
    "\n",
    "# print (linreg.intercept_)\n",
    "# print (linreg.coef_)\n",
    "\n"
   ]
  },
  {
   "cell_type": "code",
   "execution_count": 165,
   "metadata": {},
   "outputs": [
    {
     "name": "stdout",
     "output_type": "stream",
     "text": [
      "['x1'] : \n",
      "\n",
      "MAE: 23.371785774836244\n",
      "MSE: 605.5439008114218\n",
      "RMSE: 24.607801624920132\n",
      "\n",
      "\n",
      "['x2'] : \n",
      "\n",
      "MAE: 3.961362199127525\n",
      "MSE: 19.37119682981046\n",
      "RMSE: 4.401272183109159\n",
      "\n",
      "\n",
      "['x3'] : \n",
      "\n",
      "MAE: 16.78335525087633\n",
      "MSE: 325.93105593161164\n",
      "RMSE: 18.053560754920667\n",
      "\n",
      "\n",
      "1\n",
      "1\n",
      "1\n"
     ]
    }
   ],
   "source": [
    "import numpy as np\n",
    "from sklearn import metrics\n",
    "\n",
    "var = [[\"x1\"],[\"x2\"],[\"x3\"]]\n",
    "\n",
    "MAE = []\n",
    "MSE = []\n",
    "RMSE = []\n",
    "index = 0\n",
    "linreg= 0\n",
    "for i in var:\n",
    "    linreg = LinearRegression()\n",
    "    linreg.fit(x,y)  \n",
    "    y_pred = linreg.predict(data[i])  \n",
    "#     print (linreg.intercept_)\n",
    "#     print (linreg.coef_)\n",
    "    print(i,\": \\n\")\n",
    "    MAE.append(metrics.mean_absolute_error(data['y'],y_pred))\n",
    "    MSE.append(metrics.mean_squared_error(data['y'],y_pred))\n",
    "    RMSE.append(np.sqrt(metrics.mean_squared_error(data['y'],y_pred)))\n",
    "    print (\"MAE:\",MAE[index])\n",
    "    print (\"MSE:\",MSE[index])\n",
    "    print (\"RMSE:\",RMSE[index])\n",
    "    print(\"\\n\")\n",
    "    index+=1\n",
    "\n",
    "print (MAE.index(min(MAE)))\n",
    "print (MSE.index(min(MSE)))\n",
    "print (RMSE.index(min(RMSE)))    "
   ]
  },
  {
   "cell_type": "markdown",
   "metadata": {},
   "source": [
    "结论: x2是主成分"
   ]
  },
  {
   "cell_type": "markdown",
   "metadata": {},
   "source": [
    "# 直接做回归分析"
   ]
  },
  {
   "cell_type": "code",
   "execution_count": 163,
   "metadata": {},
   "outputs": [],
   "source": [
    "# 加入所有变量\n",
    "import pandas as pd\n",
    "import numpy as np"
   ]
  },
  {
   "cell_type": "code",
   "execution_count": 166,
   "metadata": {},
   "outputs": [
    {
     "name": "stdout",
     "output_type": "stream",
     "text": [
      "['x1'] : \n",
      "\n",
      "MAE: 0.9051182040043901\n",
      "MSE: 1.2807089727785497\n",
      "RMSE: 1.1316841311861494\n",
      "\n",
      "\n",
      "['x2'] : \n",
      "\n",
      "MAE: 3.702515799708314\n",
      "MSE: 17.58807210136121\n",
      "RMSE: 4.193813551096569\n",
      "\n",
      "\n",
      "['x3'] : \n",
      "\n",
      "MAE: 0.8718743170022584\n",
      "MSE: 1.0410942863170012\n",
      "RMSE: 1.0203402796699743\n",
      "\n",
      "\n",
      "['x1', 'x2'] : \n",
      "\n",
      "MAE: 0.4793007765597558\n",
      "MSE: 0.3232166662845539\n",
      "RMSE: 0.5685214738992309\n",
      "\n",
      "\n",
      "['x1', 'x3'] : \n",
      "\n",
      "MAE: 0.8774010062717932\n",
      "MSE: 0.9881541268220417\n",
      "RMSE: 0.9940594181546905\n",
      "\n",
      "\n",
      "['x2', 'x3'] : \n",
      "\n",
      "MAE: 0.32976423119321213\n",
      "MSE: 0.1637058855687511\n",
      "RMSE: 0.4046058397610582\n",
      "\n",
      "\n",
      "['x1', 'x2', 'x3'] : \n",
      "\n",
      "MAE: 0.3233899552716801\n",
      "MSE: 0.15208631466626968\n",
      "RMSE: 0.38998245430566447\n",
      "\n",
      "\n",
      "6\n",
      "6\n",
      "6\n"
     ]
    }
   ],
   "source": [
    "var = [[\"x1\"],[\"x2\"],[\"x3\"],[\"x1\",\"x2\"],[\"x1\",\"x3\"],[\"x2\",\"x3\"],[\"x1\",\"x2\",\"x3\"]]\n",
    "linreg= 0\n",
    "MAE = []\n",
    "MSE = []\n",
    "RMSE = []\n",
    "index = 0\n",
    "\n",
    "for i in var:\n",
    "    linreg = LinearRegression()\n",
    "    linreg.fit(data[i],data['y'])  \n",
    "    y_pred = linreg.predict(data[i])  \n",
    "#     print (linreg.intercept_)\n",
    "#     print (linreg.coef_)\n",
    "    print(i,\": \\n\")\n",
    "    MAE.append(metrics.mean_absolute_error(data['y'],y_pred))\n",
    "    MSE.append(metrics.mean_squared_error(data['y'],y_pred))\n",
    "    RMSE.append(np.sqrt(metrics.mean_squared_error(data['y'],y_pred)))\n",
    "    print (\"MAE:\",MAE[index])\n",
    "    print (\"MSE:\",MSE[index])\n",
    "    print (\"RMSE:\",RMSE[index])\n",
    "    print(\"\\n\")\n",
    "    index+=1\n",
    "\n",
    "print (MAE.index(min(MAE)))\n",
    "print (MSE.index(min(MSE)))\n",
    "print (RMSE.index(min(RMSE)))    "
   ]
  },
  {
   "cell_type": "markdown",
   "metadata": {},
   "source": [
    "结论: 从MAE、MSE与RMSE来看，x1,x2与x3共同对y造成影响"
   ]
  },
  {
   "cell_type": "code",
   "execution_count": null,
   "metadata": {},
   "outputs": [],
   "source": []
  }
 ],
 "metadata": {
  "kernelspec": {
   "display_name": "Python 3",
   "language": "python",
   "name": "python3"
  },
  "language_info": {
   "codemirror_mode": {
    "name": "ipython",
    "version": 3
   },
   "file_extension": ".py",
   "mimetype": "text/x-python",
   "name": "python",
   "nbconvert_exporter": "python",
   "pygments_lexer": "ipython3",
   "version": "3.6.4"
  }
 },
 "nbformat": 4,
 "nbformat_minor": 2
}
