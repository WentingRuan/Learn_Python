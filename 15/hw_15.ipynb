{
 "cells": [
  {
   "cell_type": "markdown",
   "metadata": {},
   "source": [
    "# hw_15\n",
    "ex15.txt 记录了进口总额Y与三个自变量：国内生产总值X1、存储量X2、总消费X3 的值。\n",
    "\n",
    "先对自变量进行主成分法分析，然后将得到的主成分与Y进行回归分析\n",
    "\n",
    "试比较与直接进行回归分析所得到的结果差异，说说哪个模型的拟合效果比较好"
   ]
  },
  {
   "cell_type": "code",
   "execution_count": null,
   "metadata": {},
   "outputs": [],
   "source": []
  }
 ],
 "metadata": {
  "kernelspec": {
   "display_name": "Python 3",
   "language": "python",
   "name": "python3"
  },
  "language_info": {
   "codemirror_mode": {
    "name": "ipython",
    "version": 3
   },
   "file_extension": ".py",
   "mimetype": "text/x-python",
   "name": "python",
   "nbconvert_exporter": "python",
   "pygments_lexer": "ipython3",
   "version": "3.6.4"
  }
 },
 "nbformat": 4,
 "nbformat_minor": 2
}
