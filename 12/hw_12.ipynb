{
 "cells": [
  {
   "cell_type": "markdown",
   "metadata": {},
   "source": []
  },
  {
   "cell_type": "markdown",
   "metadata": {},
   "source": [
    "# 第十二课笔记—— 时间序列\n",
    "\n",
    "\n",
    "![image](https://user-images.githubusercontent.com/26344632/41084923-0a7e1fbe-6a68-11e8-9567-dc67b4ea501e.png)"
   ]
  },
  {
   "cell_type": "markdown",
   "metadata": {},
   "source": [
    "# 平稳性\n",
    "\n",
    "假定时间序列${𝑌 𝑡:𝑡 = 0,±1,±2,……}$ 的每一个数值都是从一个概率分布中随机得到，如果满足下列条件： \n",
    "\n",
    " - $均值𝐸 𝑌 𝑡 = 𝜇与时间t无关的常数$；\n",
    " \n",
    " - $方差𝑉𝑎𝑟 𝑌 𝑡 = 𝛾$与时间t 无关的常数$；\n",
    " \n",
    " - $协方差𝐶𝑜𝑣 𝑌 𝑡,𝑌 𝑡+𝑘 = 𝛾0,𝑘 只与时期间隔 k 有关，与时间t 无关的常数$。 \n",
    "\n",
    "则称该随机时间序列是平稳的（stationary) \n",
    "\n",
    "### 验证方法\n",
    "\n",
    " - 图检验\n",
    "     - 时序图检验、自相关图检验\n",
    "     - 操作简单、应用广泛\n",
    "     - 带有主观性\n",
    "     \n",
    "     从一个模型的图上观察，如果一个模型是呈趋势性（增长或下降）的、或者有周期性的(有规律的），则这不是一个平稳的模型。因为这说明Y的均值、方差和协方差与时间t是有关联的，不是随机的。\n",
    "平稳模型的自相关系数随着时间t的增长而趋于零。\n",
    "\n",
    " - 假设检验：构造检验统计量 \n",
    "     - 单位根检验：$如果p-value>0.05，则不能拒绝h_0:存在单位根，说明该模型是不平稳的$。\n",
    "     \n",
    "\n",
    "---\n",
    "\n",
    "$单位根：n次单位根是n次幂为1的复数。它们位于复平面的单位圆上，构成正n边形的顶点，其中一个顶点是1。$\n",
    "\n",
    "$$z^n = 1$$\n",
    "\n",
    "这方程的复数根 $z$ 为 **n次单位根**。\n",
    "            \n",
    "$$e^\\frac{2 Π k_i}{ n } = 1$$\n",
    "\n",
    "$单位的n次根有n个：$\n",
    " \n",
    "$单位的n次根以乘法构成n阶循环群。$\n",
    "\n",
    "$单位根（unit root）设n 是正整数，当一个数的n 次乘方等于1 时，称此数为n 次“单位根”。$\n",
    "\n",
    "$在复数范围内，n 次单位根有n 个。例如，1、－1、i、－i 都是4次单位根。确切的说，单位根指模为1的根，一般的x的n个单位根可以表示为：$\n",
    "\n",
    "$$x = cos \\frac{2 k Π}{ n } + sin \\frac{2 k Π}{ n } * i= 1$$\n",
    "\n",
    "其中：$k=0,1,2,..,n-1 ，i是虚数的单位。它的生成元是单位的n次本源根。单位的n次本源根是  ，其中k和n互质。单位的n次本源根数目为欧拉函数φ（n）。$\n",
    "     "
   ]
  },
  {
   "cell_type": "markdown",
   "metadata": {},
   "source": [
    "# 白噪声检验\n",
    "\n",
    "** 纯随机过程 == 白噪声 **\n",
    "\n",
    "如果是一个纯随机过程，序列之间没有任何关联。\n",
    "虽然序列会在一个常数附近波动，但是序列之间没有自相关性。\n",
    "自相关性检测会发现，白噪声的序列的值在0附近进行随即徘徊。此时就不需要再进行白噪声检验。\n",
    "\n",
    "\n",
    "![image](https://user-images.githubusercontent.com/26344632/41082772-fcb3a5a8-6a61-11e8-8e88-9fc24ccdebb0.png)\n",
    "\n",
    " - LB 统计量\n",
    "\n",
    "计算所有的序列之间的相关系数，再进行白噪声判断，可以判断出是否是一个平稳的随机序列。\n",
    "\n",
    " - Q统计量"
   ]
  },
  {
   "cell_type": "markdown",
   "metadata": {},
   "source": [
    "## 平稳时间序列分析\n",
    "\n",
    "![image](https://user-images.githubusercontent.com/26344632/41082815-1a36ab5c-6a62-11e8-9f10-f995b6b88ebe.png)\n"
   ]
  },
  {
   "cell_type": "markdown",
   "metadata": {},
   "source": [
    "# 自回归模型 AR\n",
    "\n",
    "AR是一个自回归的方程，通过对前P期的自变量来进行t-p期的值的影响。\n",
    "均值为0，方差为常数，各项之间不相关。\n",
    "\n",
    "![image](https://user-images.githubusercontent.com/26344632/41082971-92a3695e-6a62-11e8-96da-fe6650518eb5.png)\n",
    "\n",
    "**自相关系数 ACF （Auto-correlation coefficient）**：\n",
    "\n",
    "自相关系数是两个不同事件彼此之间的相互影响程度；而自相关系数度量的是同一事件在两个不同时期之间的相关程度，形象的讲就是度量自己过去的行为对自己现在的影响。\n",
    "\n",
    "在时间序列分析分析中，$对于时间序列{Xt，x∈T}，任取t，s∈T，定于γ(t,s)为序列{Xt}的自协方差函数$：\n",
    "\n",
    "$$γ(t,s)=E(Xt-μt)(Xs-μs)$$\n",
    "\n",
    "定义$ρ(t,s)为时间序列{Xt}$的自相关系数，简记为ACF：\n",
    "\n",
    "$$ρ(t,s)= γ(t,s)/sqrt(DXt×DXs)$$\n",
    "\n",
    "其中，$E表示数学期望，D表示方差。$\n",
    "\n",
    "**偏自相关系数 PACF**：\n",
    "\n",
    "\n",
    "\n",
    "**偏相关分析 PCF (Partial correlation coefficient) **\n",
    "\n",
    "在多要素所构成的系统中，当研究某一个要素对另一个要素的影响或相关程度时，把其他要素的影响视作常数（保持不变），即暂时不考虑其他要素影响，单独研究两个要素之间的相互关系的密切程度，所得数值结果为偏相关系数。\n",
    "\n",
    "指当两个变量同时与第三个变量相关时，将第三个变量的影响剔除，只分析另外两个变量之间相关程度的过程，判定指标是相关系数的R值。\n",
    "\n",
    "当分析P1,P2,P3期的影响时，把P2期去除掉，只分析P1与P3期的关系\n",
    "\n",
    "p值是针对原假设H0：假设两变量无线性相关而言的。一般假设检验的显著性水平为0.05，你只需要拿p值和0.05进行比较：\n",
    "\n",
    "如果p值小于0.05，就拒绝原假设H0，说明两变量有线性相关的关系，他们无线性相关的可能性小于0.05；\n",
    "\n",
    "如果大于0.05，则一般认为无线性相关关系，至于相关的程度则要看相关系数R值，R越大，说明越相关。越小，则相关程度越低。"
   ]
  },
  {
   "cell_type": "markdown",
   "metadata": {},
   "source": [
    "### q阶滑动平均模型\n",
    "\n",
    "![image](https://user-images.githubusercontent.com/26344632/41084418-b9abf59e-6a66-11e8-955f-13f126a41a5b.png)\n",
    "\n",
    "通过对残差进行随机摇动向分析"
   ]
  },
  {
   "cell_type": "markdown",
   "metadata": {},
   "source": [
    "# 自回归滑动平均模型 ARMA(p+q) \n",
    "\n",
    "== AR+MA\n",
    "\n",
    "![image](https://user-images.githubusercontent.com/26344632/41084490-f216b356-6a66-11e8-847f-8e68986a6cf4.png)\n"
   ]
  },
  {
   "cell_type": "markdown",
   "metadata": {},
   "source": [
    "# 非平稳时间序列\n",
    "\n",
    "\n",
    "随机性时间序列分析\n",
    "\n",
    " - 差分自回归滑动平均模型(ARIMA)\n",
    " \n",
    "\n",
    "确定性时间序列分析：长期趋势、季节变动、循环变动和随机波动\n",
    "\n",
    " - 平滑预测法\n",
    " \n",
    " - 趋势预测法\n",
    " \n",
    " - 分解分析法\n",
    " \n",
    "## ARIMA(p,d,q)\n",
    "\n",
    " - p——自回归阶数\n",
    " - d——差分阶数\n",
    " - q——移动平均阶数\n",
    "\n",
    "**通过差分运算将非平稳时间序列模型转化为平稳时间序列模型**\n",
    "\n",
    "![image](https://user-images.githubusercontent.com/26344632/41091164-8675e2cc-6a78-11e8-9710-23184b7529d7.png)\n"
   ]
  },
  {
   "cell_type": "markdown",
   "metadata": {},
   "source": [
    "# Python中的时序分析算法\n",
    "![image](https://user-images.githubusercontent.com/26344632/41091188-93b676fe-6a78-11e8-91d1-87571036626b.png)\n"
   ]
  },
  {
   "cell_type": "markdown",
   "metadata": {},
   "source": [
    "## 第十二课作业： 对stock_px 中的三个股票数据拟合ARIMA模型\n",
    "\n",
    "ARIMA 模型对时间序列的要求是平稳型。\n",
    "\n",
    "因此，当你得到一个非平稳的时间序列时，首先要做的即是做时间序列的差分，直到得到一个平稳时间序列。\n",
    "\n",
    "如果你对时间序列做d次差分才能得到一个平稳序列，那么可以使用ARIMA(p,d,q)模型，其中d是差分次数。"
   ]
  },
  {
   "cell_type": "code",
   "execution_count": 8,
   "metadata": {},
   "outputs": [
    {
     "data": {
      "text/html": [
       "<div>\n",
       "<style scoped>\n",
       "    .dataframe tbody tr th:only-of-type {\n",
       "        vertical-align: middle;\n",
       "    }\n",
       "\n",
       "    .dataframe tbody tr th {\n",
       "        vertical-align: top;\n",
       "    }\n",
       "\n",
       "    .dataframe thead th {\n",
       "        text-align: right;\n",
       "    }\n",
       "</style>\n",
       "<table border=\"1\" class=\"dataframe\">\n",
       "  <thead>\n",
       "    <tr style=\"text-align: right;\">\n",
       "      <th></th>\n",
       "      <th>AAPL</th>\n",
       "      <th>MSFT</th>\n",
       "      <th>XOM</th>\n",
       "      <th>SPX</th>\n",
       "    </tr>\n",
       "  </thead>\n",
       "  <tbody>\n",
       "    <tr>\n",
       "      <th>2003-01-02</th>\n",
       "      <td>7.40</td>\n",
       "      <td>21.11</td>\n",
       "      <td>29.22</td>\n",
       "      <td>909.03</td>\n",
       "    </tr>\n",
       "    <tr>\n",
       "      <th>2003-01-03</th>\n",
       "      <td>7.45</td>\n",
       "      <td>21.14</td>\n",
       "      <td>29.24</td>\n",
       "      <td>908.59</td>\n",
       "    </tr>\n",
       "    <tr>\n",
       "      <th>2003-01-06</th>\n",
       "      <td>7.45</td>\n",
       "      <td>21.52</td>\n",
       "      <td>29.96</td>\n",
       "      <td>929.01</td>\n",
       "    </tr>\n",
       "    <tr>\n",
       "      <th>2003-01-07</th>\n",
       "      <td>7.43</td>\n",
       "      <td>21.93</td>\n",
       "      <td>28.95</td>\n",
       "      <td>922.93</td>\n",
       "    </tr>\n",
       "    <tr>\n",
       "      <th>2003-01-08</th>\n",
       "      <td>7.28</td>\n",
       "      <td>21.31</td>\n",
       "      <td>28.83</td>\n",
       "      <td>909.93</td>\n",
       "    </tr>\n",
       "  </tbody>\n",
       "</table>\n",
       "</div>"
      ],
      "text/plain": [
       "            AAPL   MSFT    XOM     SPX\n",
       "2003-01-02  7.40  21.11  29.22  909.03\n",
       "2003-01-03  7.45  21.14  29.24  908.59\n",
       "2003-01-06  7.45  21.52  29.96  929.01\n",
       "2003-01-07  7.43  21.93  28.95  922.93\n",
       "2003-01-08  7.28  21.31  28.83  909.93"
      ]
     },
     "execution_count": 8,
     "metadata": {},
     "output_type": "execute_result"
    }
   ],
   "source": [
    "####时序案例分析####\n",
    "#参数初始化\n",
    "import os \n",
    "import pandas as pd\n",
    "import numpy as np\n",
    "from __future__ import division\n",
    "from pandas import Series, DataFrame\n",
    "from numpy.random import randn\n",
    "pd.options.display.max_rows = 12\n",
    "np.set_printoptions(precision=4, suppress=True)\n",
    "import matplotlib.pyplot as plt\n",
    "plt.rc('figure', figsize=(12, 4))\n",
    "\n",
    "o =os.getcwd()\n",
    "\n",
    "filename = o+\"\\\\stock_px.csv\"\n",
    "\n",
    "close_px_all= pd.read_csv(filename,encoding=\"gbk\", parse_dates=True, index_col=0)\n",
    "close_px_all = pd.DataFrame(close_px_all,dtype=np.float64)\n",
    "close_px_all.head()"
   ]
  },
  {
   "cell_type": "code",
   "execution_count": 3,
   "metadata": {},
   "outputs": [
    {
     "name": "stderr",
     "output_type": "stream",
     "text": [
      "C:\\Anaconda3\\lib\\site-packages\\ipykernel_launcher.py:2: FutureWarning: fill_method is deprecated to .resample()\n",
      "the new syntax is .resample(...).ffill()\n",
      "  \n"
     ]
    },
    {
     "data": {
      "text/html": [
       "<div>\n",
       "<style scoped>\n",
       "    .dataframe tbody tr th:only-of-type {\n",
       "        vertical-align: middle;\n",
       "    }\n",
       "\n",
       "    .dataframe tbody tr th {\n",
       "        vertical-align: top;\n",
       "    }\n",
       "\n",
       "    .dataframe thead th {\n",
       "        text-align: right;\n",
       "    }\n",
       "</style>\n",
       "<table border=\"1\" class=\"dataframe\">\n",
       "  <thead>\n",
       "    <tr style=\"text-align: right;\">\n",
       "      <th></th>\n",
       "      <th>AAPL</th>\n",
       "      <th>MSFT</th>\n",
       "      <th>XOM</th>\n",
       "    </tr>\n",
       "  </thead>\n",
       "  <tbody>\n",
       "    <tr>\n",
       "      <th>2003-01-02</th>\n",
       "      <td>7.40</td>\n",
       "      <td>21.11</td>\n",
       "      <td>29.22</td>\n",
       "    </tr>\n",
       "    <tr>\n",
       "      <th>2003-01-03</th>\n",
       "      <td>7.45</td>\n",
       "      <td>21.14</td>\n",
       "      <td>29.24</td>\n",
       "    </tr>\n",
       "    <tr>\n",
       "      <th>2003-01-06</th>\n",
       "      <td>7.45</td>\n",
       "      <td>21.52</td>\n",
       "      <td>29.96</td>\n",
       "    </tr>\n",
       "    <tr>\n",
       "      <th>2003-01-07</th>\n",
       "      <td>7.43</td>\n",
       "      <td>21.93</td>\n",
       "      <td>28.95</td>\n",
       "    </tr>\n",
       "    <tr>\n",
       "      <th>2003-01-08</th>\n",
       "      <td>7.28</td>\n",
       "      <td>21.31</td>\n",
       "      <td>28.83</td>\n",
       "    </tr>\n",
       "  </tbody>\n",
       "</table>\n",
       "</div>"
      ],
      "text/plain": [
       "            AAPL   MSFT    XOM\n",
       "2003-01-02  7.40  21.11  29.22\n",
       "2003-01-03  7.45  21.14  29.24\n",
       "2003-01-06  7.45  21.52  29.96\n",
       "2003-01-07  7.43  21.93  28.95\n",
       "2003-01-08  7.28  21.31  28.83"
      ]
     },
     "execution_count": 3,
     "metadata": {},
     "output_type": "execute_result"
    }
   ],
   "source": [
    "close_px = close_px_all[['AAPL', 'MSFT', 'XOM']]\n",
    "close_px = close_px.resample('B', fill_method='ffill').ffill()\n",
    "close_px.head()"
   ]
  },
  {
   "cell_type": "code",
   "execution_count": 4,
   "metadata": {},
   "outputs": [
    {
     "data": {
      "text/html": [
       "<div>\n",
       "<style scoped>\n",
       "    .dataframe tbody tr th:only-of-type {\n",
       "        vertical-align: middle;\n",
       "    }\n",
       "\n",
       "    .dataframe tbody tr th {\n",
       "        vertical-align: top;\n",
       "    }\n",
       "\n",
       "    .dataframe thead th {\n",
       "        text-align: right;\n",
       "    }\n",
       "</style>\n",
       "<table border=\"1\" class=\"dataframe\">\n",
       "  <thead>\n",
       "    <tr style=\"text-align: right;\">\n",
       "      <th></th>\n",
       "      <th>AAPL</th>\n",
       "      <th>MSFT</th>\n",
       "      <th>XOM</th>\n",
       "    </tr>\n",
       "  </thead>\n",
       "  <tbody>\n",
       "    <tr>\n",
       "      <th>2003-01-03</th>\n",
       "      <td>0.05</td>\n",
       "      <td>0.03</td>\n",
       "      <td>0.02</td>\n",
       "    </tr>\n",
       "    <tr>\n",
       "      <th>2003-01-06</th>\n",
       "      <td>0.00</td>\n",
       "      <td>0.38</td>\n",
       "      <td>0.72</td>\n",
       "    </tr>\n",
       "    <tr>\n",
       "      <th>2003-01-07</th>\n",
       "      <td>-0.02</td>\n",
       "      <td>0.41</td>\n",
       "      <td>-1.01</td>\n",
       "    </tr>\n",
       "    <tr>\n",
       "      <th>2003-01-08</th>\n",
       "      <td>-0.15</td>\n",
       "      <td>-0.62</td>\n",
       "      <td>-0.12</td>\n",
       "    </tr>\n",
       "    <tr>\n",
       "      <th>2003-01-09</th>\n",
       "      <td>0.06</td>\n",
       "      <td>0.62</td>\n",
       "      <td>0.61</td>\n",
       "    </tr>\n",
       "  </tbody>\n",
       "</table>\n",
       "</div>"
      ],
      "text/plain": [
       "            AAPL  MSFT   XOM\n",
       "2003-01-03  0.05  0.03  0.02\n",
       "2003-01-06  0.00  0.38  0.72\n",
       "2003-01-07 -0.02  0.41 -1.01\n",
       "2003-01-08 -0.15 -0.62 -0.12\n",
       "2003-01-09  0.06  0.62  0.61"
      ]
     },
     "execution_count": 4,
     "metadata": {},
     "output_type": "execute_result"
    }
   ],
   "source": [
    "#差分后的结果\n",
    "D_data = close_px.diff().dropna()\n",
    "D_data.head()"
   ]
  },
  {
   "cell_type": "code",
   "execution_count": 5,
   "metadata": {},
   "outputs": [],
   "source": [
    "AAPL = D_data[[\"AAPL\"]]\n",
    "MSFT = D_data[[\"MSFT\"]]\n",
    "XOM = D_data[[\"XOM\"]]"
   ]
  },
  {
   "cell_type": "code",
   "execution_count": 6,
   "metadata": {},
   "outputs": [],
   "source": [
    "# data.plot()\n",
    "# plt.show()\n",
    "\n",
    "# #自相关图\n",
    "# from statsmodels.graphics.tsaplots import plot_acf\n",
    "# plot_acf(data).show()\n",
    "\n",
    "# #平稳性检测\n",
    "# from statsmodels.tsa.stattools import adfuller as ADF\n",
    "# print( ADF(data[u'销量']))\n",
    "# #返回值依次为adf、pvalue、usedlag、nobs、critical values、icbest、regresults、resstore\n",
    "\n",
    "# #差分后的结果\n",
    "# D_data = data.diff().dropna()\n",
    "# D_data.columns = [u'销量差分']\n",
    "# D_data.plot() #时序图\n",
    "# plt.show()\n",
    "# plot_acf(D_data).show() #自相关图\n",
    "\n",
    "# from statsmodels.graphics.tsaplots import plot_pacf\n",
    "# plot_pacf(D_data).show() #偏自相关图\n",
    "# ADF(D_data[u'销量差分'])#平稳性检测\n",
    "\n",
    "# #白噪声检验\n",
    "# from statsmodels.stats.diagnostic import acorr_ljungbox\n",
    "# acorr_ljungbox(D_data, lags=1) #返回统计量和p值"
   ]
  },
  {
   "cell_type": "markdown",
   "metadata": {},
   "source": [
    "## AAPL"
   ]
  },
  {
   "cell_type": "code",
   "execution_count": 9,
   "metadata": {},
   "outputs": [
    {
     "data": {
      "image/png": "[encoded data removed]",
      "text/plain": [
       "<matplotlib.figure.Figure at 0x23ec191b3c8>"
      ]
     },
     "metadata": {},
     "output_type": "display_data"
    }
   ],
   "source": [
    "AAPL.plot()\n",
    "plt.show()"
   ]
  },
  {
   "cell_type": "code",
   "execution_count": null,
   "metadata": {},
   "outputs": [],
   "source": [
    "# 自相关图\n",
    "from statsmodels.graphics.tsaplots import plot_acf\n",
    "plot_acf(AAPL).show()"
   ]
  },
  {
   "cell_type": "code",
   "execution_count": null,
   "metadata": {},
   "outputs": [
    {
     "name": "stderr",
     "output_type": "stream",
     "text": [
      "C:\\Anaconda3\\lib\\site-packages\\statsmodels\\compat\\pandas.py:56: FutureWarning: The pandas.core.datetools module is deprecated and will be removed in a future version. Please use the pandas.tseries module instead.\n",
      "  from pandas.core import datetools\n"
     ]
    }
   ],
   "source": [
    "#定阶\n",
    "pmax = int(len(AAPL)/10) #一般阶数不超过length/10\n",
    "qmax = int(len(AAPL)/10) #一般阶数不超过length/10\n",
    "\n",
    "from statsmodels.tsa.arima_model import ARIMA\n",
    "\n",
    "bic_matrix = [] #bic矩阵\n",
    "for p in range(pmax+1):\n",
    "  tmp = []\n",
    "  for q in range(qmax+1):\n",
    "    try: #存在部分报错，所以用try来跳过报错。\n",
    "      tmp.append(ARIMA(AAPL, (p,1,q)).fit().bic)\n",
    "    except:\n",
    "      tmp.append(None)\n",
    "  bic_matrix.append(tmp)\n",
    "\n",
    "bic_matrix = pd.DataFrame(bic_matrix) #从中可以找出最小值"
   ]
  },
  {
   "cell_type": "code",
   "execution_count": null,
   "metadata": {},
   "outputs": [],
   "source": [
    "p,q = bic_matrix.stack().idxmin() #先用stack展平，然后用idxmin找出最小值位置。\n",
    "print(u'BIC最小的p值和q值为：%s、%s' %(p,q)) \n",
    "model = ARIMA(AAPL, (0,1,1)).fit() #建立ARIMA(0, 1, 1)模型\n",
    "model.summary() #给出一份模型报告\n",
    "model.forecast(5) #作为期5天的预测，返回预测结果、标准误差、置信区间。"
   ]
  },
  {
   "cell_type": "code",
   "execution_count": null,
   "metadata": {},
   "outputs": [],
   "source": [
    "# bic_matrix = pd.DataFrame(bic_matrix) #从中可以找出最小值\n",
    "\n",
    "# p,q = bic_matrix.stack().idxmin() #先用stack展平，然后用idxmin找出最小值位置。\n",
    "# print(u'BIC最小的p值和q值为：%s、%s' %(p,q)) \n",
    "# model = ARIMA(close_px, (0,1,1)).fit() #建立ARIMA(0, 1, 1)模型\n",
    "# model.summary() #给出一份模型报告\n",
    "# model.forecast(5) #作为期5天的预测，返回预测结果、标准误差、置信区间。"
   ]
  },
  {
   "cell_type": "code",
   "execution_count": null,
   "metadata": {},
   "outputs": [],
   "source": []
  }
 ],
 "metadata": {
  "kernelspec": {
   "display_name": "Python 3",
   "language": "python",
   "name": "python3"
  },
  "language_info": {
   "codemirror_mode": {
    "name": "ipython",
    "version": 3
   },
   "file_extension": ".py",
   "mimetype": "text/x-python",
   "name": "python",
   "nbconvert_exporter": "python",
   "pygments_lexer": "ipython3",
   "version": "3.6.4"
  }
 },
 "nbformat": 4,
 "nbformat_minor": 2
}
