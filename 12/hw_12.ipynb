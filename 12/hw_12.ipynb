{
 "cells": [
  {
   "cell_type": "markdown",
   "metadata": {},
   "source": []
  },
  {
   "cell_type": "markdown",
   "metadata": {},
   "source": [
    "# 第十二课笔记"
   ]
  },
  {
   "cell_type": "markdown",
   "metadata": {},
   "source": [
    "## 平稳性\n",
    "\n",
    "假定时间序列${𝑌 𝑡:𝑡 = 0,±1,±2,……}$ 的每一个数值都是从一个概率分布中随机得到，如果满足下列条件： \n",
    "\n",
    " - $均值𝐸 𝑌 𝑡 = 𝜇与时间t无关的常数$；\n",
    " \n",
    " - $方差𝑉𝑎𝑟 𝑌 𝑡 = 𝛾$与时间t 无关的常数$；\n",
    " \n",
    " - $协方差𝐶𝑜𝑣 𝑌 𝑡,𝑌 𝑡+𝑘 = 𝛾0,𝑘 只与时期间隔 k 有关，与时间t 无关的常数$。 \n",
    "\n",
    "则称该随机时间序列是平稳的（stationary) \n",
    "\n",
    "### 验证方法\n",
    "\n",
    " - 图检验\n",
    "     - 时序图检验、自相关图检验\n",
    "     - 操作简单、应用广泛\n",
    "     - 带有主观性\n",
    "     \n",
    "     从一个模型的图上观察，如果一个模型是呈趋势性（增长或下降）的、或者有周期性的(有规律的），则这不是一个平稳的模型。因为这说明Y的均值、方差和协方差与时间t是有关联的，不是随机的。\n",
    "平稳模型的自相关系数随着时间t的增长而趋于零。\n",
    "\n",
    " - 假设检验：构造检验统计量 \n",
    "     - 单位根检验：$如果p-value>0.05，则不能拒绝h_0:存在单位根，说明该模型是不平稳的$。\n",
    "     \n",
    "\n",
    "---\n",
    "\n",
    "$单位根：n次单位根是n次幂为1的复数。它们位于复平面的单位圆上，构成正n边形的顶点，其中一个顶点是1。$\n",
    "\n",
    "$$z^n = 1$$\n",
    "\n",
    "这方程的复数根 $z$ 为 **n次单位根**。\n",
    "            \n",
    "$$e^\\frac{2 Π k_i}{ n } = 1$$\n",
    "\n",
    "$单位的n次根有n个：$\n",
    " \n",
    "$单位的n次根以乘法构成n阶循环群。$\n",
    "\n",
    "$单位根（unit root）设n 是正整数，当一个数的n 次乘方等于1 时，称此数为n 次“单位根”。$\n",
    "\n",
    "$在复数范围内，n 次单位根有n 个。例如，1、－1、i、－i 都是4次单位根。确切的说，单位根指模为1的根，一般的x的n个单位根可以表示为：$\n",
    "\n",
    "$$x = cos \\frac{2 k Π}{ n } + sin \\frac{2 k Π}{ n } * i= 1$$\n",
    "\n",
    "其中：$k=0,1,2,..,n-1 ，i是虚数的单位。它的生成元是单位的n次本源根。单位的n次本源根是  ，其中k和n互质。单位的n次本源根数目为欧拉函数φ（n）。$\n",
    "     "
   ]
  },
  {
   "cell_type": "markdown",
   "metadata": {},
   "source": [
    "\n",
    "$$\\frac{排列}{n}$$\n"
   ]
  },
  {
   "cell_type": "markdown",
   "metadata": {},
   "source": [
    "## 第十二课作业： 对stock_px 中的三个股票数据拟合ARIMA模型\n",
    "\n",
    "ARIMA 模型对时间序列的要求是平稳型。\n",
    "\n",
    "因此，当你得到一个非平稳的时间序列时，首先要做的即是做时间序列的差分，直到得到一个平稳时间序列。\n",
    "\n",
    "如果你对时间序列做d次差分才能得到一个平稳序列，那么可以使用ARIMA(p,d,q)模型，其中d是差分次数。"
   ]
  },
  {
   "cell_type": "code",
   "execution_count": 1,
   "metadata": {},
   "outputs": [
    {
     "data": {
      "text/html": [
       "<div>\n",
       "<style scoped>\n",
       "    .dataframe tbody tr th:only-of-type {\n",
       "        vertical-align: middle;\n",
       "    }\n",
       "\n",
       "    .dataframe tbody tr th {\n",
       "        vertical-align: top;\n",
       "    }\n",
       "\n",
       "    .dataframe thead th {\n",
       "        text-align: right;\n",
       "    }\n",
       "</style>\n",
       "<table border=\"1\" class=\"dataframe\">\n",
       "  <thead>\n",
       "    <tr style=\"text-align: right;\">\n",
       "      <th></th>\n",
       "      <th>AAPL</th>\n",
       "      <th>MSFT</th>\n",
       "      <th>XOM</th>\n",
       "      <th>SPX</th>\n",
       "    </tr>\n",
       "  </thead>\n",
       "  <tbody>\n",
       "    <tr>\n",
       "      <th>2003-01-02</th>\n",
       "      <td>7.40</td>\n",
       "      <td>21.11</td>\n",
       "      <td>29.22</td>\n",
       "      <td>909.03</td>\n",
       "    </tr>\n",
       "    <tr>\n",
       "      <th>2003-01-03</th>\n",
       "      <td>7.45</td>\n",
       "      <td>21.14</td>\n",
       "      <td>29.24</td>\n",
       "      <td>908.59</td>\n",
       "    </tr>\n",
       "    <tr>\n",
       "      <th>2003-01-06</th>\n",
       "      <td>7.45</td>\n",
       "      <td>21.52</td>\n",
       "      <td>29.96</td>\n",
       "      <td>929.01</td>\n",
       "    </tr>\n",
       "    <tr>\n",
       "      <th>2003-01-07</th>\n",
       "      <td>7.43</td>\n",
       "      <td>21.93</td>\n",
       "      <td>28.95</td>\n",
       "      <td>922.93</td>\n",
       "    </tr>\n",
       "    <tr>\n",
       "      <th>2003-01-08</th>\n",
       "      <td>7.28</td>\n",
       "      <td>21.31</td>\n",
       "      <td>28.83</td>\n",
       "      <td>909.93</td>\n",
       "    </tr>\n",
       "  </tbody>\n",
       "</table>\n",
       "</div>"
      ],
      "text/plain": [
       "            AAPL   MSFT    XOM     SPX\n",
       "2003-01-02  7.40  21.11  29.22  909.03\n",
       "2003-01-03  7.45  21.14  29.24  908.59\n",
       "2003-01-06  7.45  21.52  29.96  929.01\n",
       "2003-01-07  7.43  21.93  28.95  922.93\n",
       "2003-01-08  7.28  21.31  28.83  909.93"
      ]
     },
     "execution_count": 1,
     "metadata": {},
     "output_type": "execute_result"
    }
   ],
   "source": [
    "####时序案例分析####\n",
    "#参数初始化\n",
    "import os \n",
    "import pandas as pd\n",
    "import numpy as np\n",
    "\n",
    "o =os.getcwd()\n",
    "\n",
    "filename = o+\"\\\\stock_px.csv\"\n",
    "\n",
    "close_px_all= pd.read_csv(filename,encoding=\"gbk\", parse_dates=True, index_col=0)\n",
    "close_px_all = pd.DataFrame(close_px_all,dtype=np.float64)\n",
    "close_px_all.head()"
   ]
  },
  {
   "cell_type": "code",
   "execution_count": 2,
   "metadata": {},
   "outputs": [
    {
     "name": "stderr",
     "output_type": "stream",
     "text": [
      "C:\\Anaconda3\\lib\\site-packages\\ipykernel_launcher.py:2: FutureWarning: fill_method is deprecated to .resample()\n",
      "the new syntax is .resample(...).ffill()\n",
      "  \n"
     ]
    },
    {
     "data": {
      "text/html": [
       "<div>\n",
       "<style scoped>\n",
       "    .dataframe tbody tr th:only-of-type {\n",
       "        vertical-align: middle;\n",
       "    }\n",
       "\n",
       "    .dataframe tbody tr th {\n",
       "        vertical-align: top;\n",
       "    }\n",
       "\n",
       "    .dataframe thead th {\n",
       "        text-align: right;\n",
       "    }\n",
       "</style>\n",
       "<table border=\"1\" class=\"dataframe\">\n",
       "  <thead>\n",
       "    <tr style=\"text-align: right;\">\n",
       "      <th></th>\n",
       "      <th>AAPL</th>\n",
       "      <th>MSFT</th>\n",
       "      <th>XOM</th>\n",
       "    </tr>\n",
       "  </thead>\n",
       "  <tbody>\n",
       "    <tr>\n",
       "      <th>2003-01-02</th>\n",
       "      <td>7.40</td>\n",
       "      <td>21.11</td>\n",
       "      <td>29.22</td>\n",
       "    </tr>\n",
       "    <tr>\n",
       "      <th>2003-01-03</th>\n",
       "      <td>7.45</td>\n",
       "      <td>21.14</td>\n",
       "      <td>29.24</td>\n",
       "    </tr>\n",
       "    <tr>\n",
       "      <th>2003-01-06</th>\n",
       "      <td>7.45</td>\n",
       "      <td>21.52</td>\n",
       "      <td>29.96</td>\n",
       "    </tr>\n",
       "    <tr>\n",
       "      <th>2003-01-07</th>\n",
       "      <td>7.43</td>\n",
       "      <td>21.93</td>\n",
       "      <td>28.95</td>\n",
       "    </tr>\n",
       "    <tr>\n",
       "      <th>2003-01-08</th>\n",
       "      <td>7.28</td>\n",
       "      <td>21.31</td>\n",
       "      <td>28.83</td>\n",
       "    </tr>\n",
       "  </tbody>\n",
       "</table>\n",
       "</div>"
      ],
      "text/plain": [
       "            AAPL   MSFT    XOM\n",
       "2003-01-02  7.40  21.11  29.22\n",
       "2003-01-03  7.45  21.14  29.24\n",
       "2003-01-06  7.45  21.52  29.96\n",
       "2003-01-07  7.43  21.93  28.95\n",
       "2003-01-08  7.28  21.31  28.83"
      ]
     },
     "execution_count": 2,
     "metadata": {},
     "output_type": "execute_result"
    }
   ],
   "source": [
    "close_px = close_px_all[['AAPL', 'MSFT', 'XOM']]\n",
    "close_px = close_px.resample('B', fill_method='ffill').ffill()\n",
    "close_px.head()"
   ]
  },
  {
   "cell_type": "code",
   "execution_count": 3,
   "metadata": {},
   "outputs": [
    {
     "data": {
      "text/html": [
       "<div>\n",
       "<style scoped>\n",
       "    .dataframe tbody tr th:only-of-type {\n",
       "        vertical-align: middle;\n",
       "    }\n",
       "\n",
       "    .dataframe tbody tr th {\n",
       "        vertical-align: top;\n",
       "    }\n",
       "\n",
       "    .dataframe thead th {\n",
       "        text-align: right;\n",
       "    }\n",
       "</style>\n",
       "<table border=\"1\" class=\"dataframe\">\n",
       "  <thead>\n",
       "    <tr style=\"text-align: right;\">\n",
       "      <th></th>\n",
       "      <th>AAPL</th>\n",
       "      <th>MSFT</th>\n",
       "      <th>XOM</th>\n",
       "    </tr>\n",
       "  </thead>\n",
       "  <tbody>\n",
       "    <tr>\n",
       "      <th>2003-01-03</th>\n",
       "      <td>0.05</td>\n",
       "      <td>0.03</td>\n",
       "      <td>0.02</td>\n",
       "    </tr>\n",
       "    <tr>\n",
       "      <th>2003-01-06</th>\n",
       "      <td>0.00</td>\n",
       "      <td>0.38</td>\n",
       "      <td>0.72</td>\n",
       "    </tr>\n",
       "    <tr>\n",
       "      <th>2003-01-07</th>\n",
       "      <td>-0.02</td>\n",
       "      <td>0.41</td>\n",
       "      <td>-1.01</td>\n",
       "    </tr>\n",
       "    <tr>\n",
       "      <th>2003-01-08</th>\n",
       "      <td>-0.15</td>\n",
       "      <td>-0.62</td>\n",
       "      <td>-0.12</td>\n",
       "    </tr>\n",
       "    <tr>\n",
       "      <th>2003-01-09</th>\n",
       "      <td>0.06</td>\n",
       "      <td>0.62</td>\n",
       "      <td>0.61</td>\n",
       "    </tr>\n",
       "  </tbody>\n",
       "</table>\n",
       "</div>"
      ],
      "text/plain": [
       "            AAPL  MSFT   XOM\n",
       "2003-01-03  0.05  0.03  0.02\n",
       "2003-01-06  0.00  0.38  0.72\n",
       "2003-01-07 -0.02  0.41 -1.01\n",
       "2003-01-08 -0.15 -0.62 -0.12\n",
       "2003-01-09  0.06  0.62  0.61"
      ]
     },
     "execution_count": 3,
     "metadata": {},
     "output_type": "execute_result"
    }
   ],
   "source": [
    "#差分后的结果\n",
    "D_data = close_px.diff().dropna()\n",
    "D_data.head()"
   ]
  },
  {
   "cell_type": "code",
   "execution_count": null,
   "metadata": {},
   "outputs": [],
   "source": [
    "AAPL = D_data[[\"AAPL\"]]\n",
    "MSFT = D_data[[\"MSFT\"]]\n",
    "XOM = D_data[[\"XOM\"]]"
   ]
  },
  {
   "cell_type": "code",
   "execution_count": null,
   "metadata": {},
   "outputs": [],
   "source": [
    "data.plot()\n",
    "plt.show()\n",
    "\n",
    "#自相关图\n",
    "from statsmodels.graphics.tsaplots import plot_acf\n",
    "plot_acf(data).show()\n",
    "\n",
    "#平稳性检测\n",
    "from statsmodels.tsa.stattools import adfuller as ADF\n",
    "print( ADF(data[u'销量']))\n",
    "#返回值依次为adf、pvalue、usedlag、nobs、critical values、icbest、regresults、resstore\n",
    "\n",
    "#差分后的结果\n",
    "D_data = data.diff().dropna()\n",
    "D_data.columns = [u'销量差分']\n",
    "D_data.plot() #时序图\n",
    "plt.show()\n",
    "plot_acf(D_data).show() #自相关图\n",
    "\n",
    "from statsmodels.graphics.tsaplots import plot_pacf\n",
    "plot_pacf(D_data).show() #偏自相关图\n",
    "ADF(D_data[u'销量差分'])#平稳性检测\n",
    "\n",
    "#白噪声检验\n",
    "from statsmodels.stats.diagnostic import acorr_ljungbox\n",
    "acorr_ljungbox(D_data, lags=1) #返回统计量和p值"
   ]
  },
  {
   "cell_type": "markdown",
   "metadata": {},
   "source": [
    "## AAPL"
   ]
  },
  {
   "cell_type": "code",
   "execution_count": null,
   "metadata": {},
   "outputs": [
    {
     "name": "stderr",
     "output_type": "stream",
     "text": [
      "C:\\Anaconda3\\lib\\site-packages\\statsmodels\\compat\\pandas.py:56: FutureWarning: The pandas.core.datetools module is deprecated and will be removed in a future version. Please use the pandas.tseries module instead.\n",
      "  from pandas.core import datetools\n",
      "C:\\Anaconda3\\lib\\site-packages\\statsmodels\\tsa\\kalmanf\\kalmanfilter.py:646: FutureWarning: Conversion of the second argument of issubdtype from `float` to `np.floating` is deprecated. In future, it will be treated as `np.float64 == np.dtype(float).type`.\n",
      "  if issubdtype(paramsdtype, float):\n",
      "C:\\Anaconda3\\lib\\site-packages\\statsmodels\\tsa\\kalmanf\\kalmanfilter.py:650: FutureWarning: Conversion of the second argument of issubdtype from `complex` to `np.complexfloating` is deprecated. In future, it will be treated as `np.complex128 == np.dtype(complex).type`.\n",
      "  elif issubdtype(paramsdtype, complex):\n",
      "C:\\Anaconda3\\lib\\site-packages\\statsmodels\\base\\model.py:473: HessianInversionWarning: Inverting hessian failed, no bse or cov_params available\n",
      "  'available', HessianInversionWarning)\n",
      "C:\\Anaconda3\\lib\\site-packages\\statsmodels\\base\\model.py:496: ConvergenceWarning: Maximum Likelihood optimization failed to converge. Check mle_retvals\n",
      "  \"Check mle_retvals\", ConvergenceWarning)\n",
      "C:\\Anaconda3\\lib\\site-packages\\statsmodels\\base\\model.py:496: ConvergenceWarning: Maximum Likelihood optimization failed to converge. Check mle_retvals\n",
      "  \"Check mle_retvals\", ConvergenceWarning)\n",
      "C:\\Anaconda3\\lib\\site-packages\\statsmodels\\base\\model.py:496: ConvergenceWarning: Maximum Likelihood optimization failed to converge. Check mle_retvals\n",
      "  \"Check mle_retvals\", ConvergenceWarning)\n",
      "C:\\Anaconda3\\lib\\site-packages\\statsmodels\\base\\model.py:496: ConvergenceWarning: Maximum Likelihood optimization failed to converge. Check mle_retvals\n",
      "  \"Check mle_retvals\", ConvergenceWarning)\n",
      "C:\\Anaconda3\\lib\\site-packages\\statsmodels\\base\\model.py:496: ConvergenceWarning: Maximum Likelihood optimization failed to converge. Check mle_retvals\n",
      "  \"Check mle_retvals\", ConvergenceWarning)\n"
     ]
    }
   ],
   "source": [
    "#定阶\n",
    "pmax = int(len(AAPL)/10) #一般阶数不超过length/10\n",
    "qmax = int(len(AAPL)/10) #一般阶数不超过length/10\n",
    "\n",
    "from statsmodels.tsa.arima_model import ARIMA\n",
    "\n",
    "bic_matrix = [] #bic矩阵\n",
    "for p in range(pmax+1):\n",
    "  tmp = []\n",
    "  for q in range(qmax+1):\n",
    "    try: #存在部分报错，所以用try来跳过报错。\n",
    "      tmp.append(ARIMA(AAPL, (p,1,q)).fit().bic)\n",
    "    except:\n",
    "      tmp.append(None)\n",
    "  bic_matrix.append(tmp)\n",
    "\n",
    "bic_matrix = pd.DataFrame(bic_matrix) #从中可以找出最小值"
   ]
  },
  {
   "cell_type": "code",
   "execution_count": null,
   "metadata": {},
   "outputs": [],
   "source": [
    "p,q = bic_matrix.stack().idxmin() #先用stack展平，然后用idxmin找出最小值位置。\n",
    "print(u'BIC最小的p值和q值为：%s、%s' %(p,q)) \n",
    "model = ARIMA(AAPL, (0,1,1)).fit() #建立ARIMA(0, 1, 1)模型\n",
    "model.summary() #给出一份模型报告\n",
    "model.forecast(5) #作为期5天的预测，返回预测结果、标准误差、置信区间。"
   ]
  },
  {
   "cell_type": "code",
   "execution_count": null,
   "metadata": {},
   "outputs": [],
   "source": [
    "# bic_matrix = pd.DataFrame(bic_matrix) #从中可以找出最小值\n",
    "\n",
    "# p,q = bic_matrix.stack().idxmin() #先用stack展平，然后用idxmin找出最小值位置。\n",
    "# print(u'BIC最小的p值和q值为：%s、%s' %(p,q)) \n",
    "# model = ARIMA(close_px, (0,1,1)).fit() #建立ARIMA(0, 1, 1)模型\n",
    "# model.summary() #给出一份模型报告\n",
    "# model.forecast(5) #作为期5天的预测，返回预测结果、标准误差、置信区间。"
   ]
  },
  {
   "cell_type": "code",
   "execution_count": null,
   "metadata": {},
   "outputs": [],
   "source": []
  }
 ],
 "metadata": {
  "kernelspec": {
   "display_name": "Python 3",
   "language": "python",
   "name": "python3"
  },
  "language_info": {
   "codemirror_mode": {
    "name": "ipython",
    "version": 3
   },
   "file_extension": ".py",
   "mimetype": "text/x-python",
   "name": "python",
   "nbconvert_exporter": "python",
   "pygments_lexer": "ipython3",
   "version": "3.6.5"
  }
 },
 "nbformat": 4,
 "nbformat_minor": 2
}
