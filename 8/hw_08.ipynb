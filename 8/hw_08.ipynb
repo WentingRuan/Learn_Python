{
 "cells": [
  {
   "cell_type": "markdown",
   "metadata": {},
   "source": [
    "读入tips.csv 数据集\n",
    "\n",
    "1. 统计不同time的tip的均值，方差\n",
    "\n",
    "2. 将total_bill和tip根据不同的sex进行标准化(原数据减去均值的结果除以标准差)\n",
    "\n",
    "3. 计算吸烟者和非吸烟者的小费比例值均值  的差值\n",
    "\n",
    "4. 对sex与size聚合，统计不同分组的小费比例的标准差、均值，将该标准差与均值添加到原数据中\n",
    "\n",
    "5. 对time和size聚合，画出total_bill 的饼图"
   ]
  },
  {
   "cell_type": "code",
   "execution_count": null,
   "metadata": {},
   "outputs": [],
   "source": []
  }
 ],
 "metadata": {
  "kernelspec": {
   "display_name": "Python 3",
   "language": "python",
   "name": "python3"
  },
  "language_info": {
   "codemirror_mode": {
    "name": "ipython",
    "version": 3
   },
   "file_extension": ".py",
   "mimetype": "text/x-python",
   "name": "python",
   "nbconvert_exporter": "python",
   "pygments_lexer": "ipython3",
   "version": "3.6.4"
  }
 },
 "nbformat": 4,
 "nbformat_minor": 2
}
