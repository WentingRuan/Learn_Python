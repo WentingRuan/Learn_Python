{
 "cells": [
  {
   "cell_type": "markdown",
   "metadata": {},
   "source": [
    "# 作业2"
   ]
  },
  {
   "cell_type": "code",
   "execution_count": 1,
   "metadata": {},
   "outputs": [
    {
     "name": "stdout",
     "output_type": "stream",
     "text": [
      "-7\n"
     ]
    }
   ],
   "source": [
    "# 1. 编写函数，要求输入x与y，返回x和y的平方差\n",
    "def xy(x,y):\n",
    "    print(x^2-y^2)\n",
    "\n",
    "xy(5,4)"
   ]
  },
  {
   "cell_type": "code",
   "execution_count": 2,
   "metadata": {},
   "outputs": [
    {
     "name": "stdout",
     "output_type": "stream",
     "text": [
      "4952\n"
     ]
    }
   ],
   "source": [
    "# 2. 计算1到100的平方的和\n",
    "a = 0\n",
    "for i in range(1,100):\n",
    "    a = a+i^2\n",
    "\n",
    "print(a)"
   ]
  },
  {
   "cell_type": "code",
   "execution_count": null,
   "metadata": {},
   "outputs": [],
   "source": [
    "# 3. 编写函数，若输入为小于100的数，返回TRUE，大于100的数，返回FALSE\n",
    "def TF(n):\n",
    "    if n < 100:\n",
    "        return(True)\n",
    "    else:\n",
    "        return(FALSE)\n",
    "\n",
    "TF(30)"
   ]
  },
  {
   "cell_type": "code",
   "execution_count": 3,
   "metadata": {},
   "outputs": [
    {
     "data": {
      "text/plain": [
       "{0: 9, 1: 8.400000000000006, 2: 7.34, 3: 6.234}"
      ]
     },
     "execution_count": 3,
     "metadata": {},
     "output_type": "execute_result"
    }
   ],
   "source": [
    "# 4. 某个公司采用公用电话传递数据，数据是四位的整数，在传递过程中是加密的，加密规则如下： \n",
    "# 每位数字都加上5,然后用和除以10的余数代替该数字，再将第一位和第四位交换，第二位和第三位交换。\n",
    "# 编写加密的函数与解密的函数。\n",
    "\n",
    "def mod_five(n):\n",
    "    a = {}\n",
    "    for i in range(0,4):\n",
    "        a[i] = (n % 10 + 5) % 10\n",
    "        n = n / 10 # 1234/10 = 123\n",
    "  \n",
    "  \n",
    "    return(a)\n",
    "\n",
    "mod_five(1234)\n"
   ]
  },
  {
   "cell_type": "code",
   "execution_count": 6,
   "metadata": {},
   "outputs": [
    {
     "data": {
      "text/plain": [
       "7061.0"
      ]
     },
     "execution_count": 6,
     "metadata": {},
     "output_type": "execute_result"
    }
   ],
   "source": [
    "def encrypt(n): \n",
    "    a = 0\n",
    "    b = 0  \n",
    "    if n > 9999:\n",
    "        return(\"error, please input four-digits number\")\n",
    "    else:\n",
    "        a = mod_five(n)\n",
    "        b = a[0]+a[1]*10+a[2]*100+a[3]*1000\n",
    "        return(b)\n",
    "        \n",
    "decrypt = encrypt\n",
    "\n",
    "encrypt(1234)"
   ]
  },
  {
   "cell_type": "code",
   "execution_count": 7,
   "metadata": {},
   "outputs": [
    {
     "data": {
      "text/plain": [
       "2120.9999999999995"
      ]
     },
     "execution_count": 7,
     "metadata": {},
     "output_type": "execute_result"
    }
   ],
   "source": [
    "decrypt(6789)"
   ]
  },
  {
   "cell_type": "code",
   "execution_count": null,
   "metadata": {},
   "outputs": [],
   "source": []
  },
  {
   "cell_type": "code",
   "execution_count": null,
   "metadata": {},
   "outputs": [],
   "source": []
  }
 ],
 "metadata": {
  "kernelspec": {
   "display_name": "Python 3",
   "language": "python",
   "name": "python3"
  },
  "language_info": {
   "codemirror_mode": {
    "name": "ipython",
    "version": 3
   },
   "file_extension": ".py",
   "mimetype": "text/x-python",
   "name": "python",
   "nbconvert_exporter": "python",
   "pygments_lexer": "ipython3",
   "version": "3.6.4"
  }
 },
 "nbformat": 4,
 "nbformat_minor": 2
}
