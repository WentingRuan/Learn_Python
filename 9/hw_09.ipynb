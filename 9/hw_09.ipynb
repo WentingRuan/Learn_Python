{
 "cells": [
  {
   "cell_type": "markdown",
   "metadata": {},
   "source": [
    "# hw_09\n",
    "\n",
    "## 1.若要反驳以下论断，请写出下列论断的零假设与备择假设\n",
    "\n",
    "（1） 百事可乐公司声称，其生产的罐装可乐的标准差为0.005磅\n",
    "\n",
    "$H_0:σ$ = 0.005\n",
    "\n",
    "$H_1:σ$ ≠ 0.005\n",
    "\n",
    "\n",
    "（2） 某社会调查员说从某项调查得知中国的离婚率高达38.5%\n",
    "\n",
    "$H_0:p$ >= 0.385\n",
    "\n",
    "$H_0:p$ < 0.385\n",
    "\n",
    "（3） 某学校招生宣传手册中写道，该学校的学生就业率高达99%。\n",
    "\n",
    "$H_0:p$ >= 0.99\n",
    "\n",
    "$H_1:p$ <0.99"
   ]
  },
  {
   "cell_type": "markdown",
   "metadata": {},
   "source": [
    "## 2.某学生随机抽取了10包一样的糖并称量它们的包装的重量，判断这些糖的包装的平均重量是否为3.5g。其中，这10包糖的重量如下（单位：g）：\n",
    "\n",
    "3.2,3.3,3.0,3.7,3.5,4.0,3.2,4.1,2.9,3.3"
   ]
  },
  {
   "cell_type": "code",
   "execution_count": 2,
   "metadata": {},
   "outputs": [
    {
     "data": {
      "text/plain": [
       "Ttest_1sampResult(statistic=array([-0.6289709]), pvalue=array([0.54499936]))"
      ]
     },
     "execution_count": 2,
     "metadata": {},
     "output_type": "execute_result"
    }
   ],
   "source": [
    "import pandas as pd\n",
    "from pandas import Series, DataFrame\n",
    "import numpy as np\n",
    "from scipy import stats as ss\n",
    "\n",
    "df=DataFrame({'data':[3.2,3.3,3.0,3.7,3.5,4.0,3.2,4.1,2.9,3.3]})\n",
    "ss.ttest_1samp(a = df, popmean = 3.5)\n"
   ]
  },
  {
   "cell_type": "markdown",
   "metadata": {},
   "source": [
    "p-value>0.05,不拒绝原假设，平均重量为3.5g"
   ]
  },
  {
   "cell_type": "markdown",
   "metadata": {},
   "source": [
    "## 3.计算Amtrak.xls 数据集的均值、标准差、方差、最大值、最小值、25%分位数、75%分位数、偏度、峰度"
   ]
  },
  {
   "cell_type": "code",
   "execution_count": 10,
   "metadata": {},
   "outputs": [
    {
     "data": {
      "text/html": [
       "<div>\n",
       "<style scoped>\n",
       "    .dataframe tbody tr th:only-of-type {\n",
       "        vertical-align: middle;\n",
       "    }\n",
       "\n",
       "    .dataframe tbody tr th {\n",
       "        vertical-align: top;\n",
       "    }\n",
       "\n",
       "    .dataframe thead th {\n",
       "        text-align: right;\n",
       "    }\n",
       "</style>\n",
       "<table border=\"1\" class=\"dataframe\">\n",
       "  <thead>\n",
       "    <tr style=\"text-align: right;\">\n",
       "      <th></th>\n",
       "      <th>NumPassengers</th>\n",
       "      <th>t</th>\n",
       "      <th>log(Numpassengers)</th>\n",
       "    </tr>\n",
       "  </thead>\n",
       "  <tbody>\n",
       "    <tr>\n",
       "      <th>count</th>\n",
       "      <td>87.000000</td>\n",
       "      <td>87.000000</td>\n",
       "      <td>87.000000</td>\n",
       "    </tr>\n",
       "    <tr>\n",
       "      <th>mean</th>\n",
       "      <td>1878.345241</td>\n",
       "      <td>44.000000</td>\n",
       "      <td>7.532932</td>\n",
       "    </tr>\n",
       "    <tr>\n",
       "      <th>std</th>\n",
       "      <td>188.196648</td>\n",
       "      <td>25.258662</td>\n",
       "      <td>0.104117</td>\n",
       "    </tr>\n",
       "    <tr>\n",
       "      <th>min</th>\n",
       "      <td>1371.690000</td>\n",
       "      <td>1.000000</td>\n",
       "      <td>7.223799</td>\n",
       "    </tr>\n",
       "    <tr>\n",
       "      <th>25%</th>\n",
       "      <td>1766.749000</td>\n",
       "      <td>22.500000</td>\n",
       "      <td>7.476894</td>\n",
       "    </tr>\n",
       "    <tr>\n",
       "      <th>50%</th>\n",
       "      <td>1864.852000</td>\n",
       "      <td>44.000000</td>\n",
       "      <td>7.530937</td>\n",
       "    </tr>\n",
       "    <tr>\n",
       "      <th>75%</th>\n",
       "      <td>2014.837500</td>\n",
       "      <td>65.500000</td>\n",
       "      <td>7.608291</td>\n",
       "    </tr>\n",
       "    <tr>\n",
       "      <th>max</th>\n",
       "      <td>2223.349000</td>\n",
       "      <td>87.000000</td>\n",
       "      <td>7.706770</td>\n",
       "    </tr>\n",
       "  </tbody>\n",
       "</table>\n",
       "</div>"
      ],
      "text/plain": [
       "       NumPassengers          t  log(Numpassengers)\n",
       "count      87.000000  87.000000           87.000000\n",
       "mean     1878.345241  44.000000            7.532932\n",
       "std       188.196648  25.258662            0.104117\n",
       "min      1371.690000   1.000000            7.223799\n",
       "25%      1766.749000  22.500000            7.476894\n",
       "50%      1864.852000  44.000000            7.530937\n",
       "75%      2014.837500  65.500000            7.608291\n",
       "max      2223.349000  87.000000            7.706770"
      ]
     },
     "execution_count": 10,
     "metadata": {},
     "output_type": "execute_result"
    }
   ],
   "source": [
    "Amtrak = pd.read_excel(\"Amtrak.xls\")\n",
    "Amtrak.describe()"
   ]
  },
  {
   "cell_type": "code",
   "execution_count": 14,
   "metadata": {},
   "outputs": [
    {
     "data": {
      "text/html": [
       "<div>\n",
       "<style scoped>\n",
       "    .dataframe tbody tr th:only-of-type {\n",
       "        vertical-align: middle;\n",
       "    }\n",
       "\n",
       "    .dataframe tbody tr th {\n",
       "        vertical-align: top;\n",
       "    }\n",
       "\n",
       "    .dataframe thead th {\n",
       "        text-align: right;\n",
       "    }\n",
       "</style>\n",
       "<table border=\"1\" class=\"dataframe\">\n",
       "  <thead>\n",
       "    <tr style=\"text-align: right;\">\n",
       "      <th></th>\n",
       "      <th>NumPassengers</th>\n",
       "      <th>t</th>\n",
       "      <th>log(Numpassengers)</th>\n",
       "    </tr>\n",
       "  </thead>\n",
       "  <tbody>\n",
       "    <tr>\n",
       "      <th>NumPassengers</th>\n",
       "      <td>35417.978155</td>\n",
       "      <td>2854.730512</td>\n",
       "      <td>19.549129</td>\n",
       "    </tr>\n",
       "    <tr>\n",
       "      <th>t</th>\n",
       "      <td>2854.730512</td>\n",
       "      <td>638.000000</td>\n",
       "      <td>1.558435</td>\n",
       "    </tr>\n",
       "    <tr>\n",
       "      <th>log(Numpassengers)</th>\n",
       "      <td>19.549129</td>\n",
       "      <td>1.558435</td>\n",
       "      <td>0.010840</td>\n",
       "    </tr>\n",
       "  </tbody>\n",
       "</table>\n",
       "</div>"
      ],
      "text/plain": [
       "                    NumPassengers            t  log(Numpassengers)\n",
       "NumPassengers        35417.978155  2854.730512           19.549129\n",
       "t                     2854.730512   638.000000            1.558435\n",
       "log(Numpassengers)      19.549129     1.558435            0.010840"
      ]
     },
     "execution_count": 14,
     "metadata": {},
     "output_type": "execute_result"
    }
   ],
   "source": [
    "Amtrak.cov()"
   ]
  },
  {
   "cell_type": "code",
   "execution_count": 12,
   "metadata": {},
   "outputs": [
    {
     "data": {
      "text/html": [
       "<div>\n",
       "<style scoped>\n",
       "    .dataframe tbody tr th:only-of-type {\n",
       "        vertical-align: middle;\n",
       "    }\n",
       "\n",
       "    .dataframe tbody tr th {\n",
       "        vertical-align: top;\n",
       "    }\n",
       "\n",
       "    .dataframe thead th {\n",
       "        text-align: right;\n",
       "    }\n",
       "</style>\n",
       "<table border=\"1\" class=\"dataframe\">\n",
       "  <thead>\n",
       "    <tr style=\"text-align: right;\">\n",
       "      <th></th>\n",
       "      <th>NumPassengers</th>\n",
       "      <th>t</th>\n",
       "      <th>log(Numpassengers)</th>\n",
       "    </tr>\n",
       "  </thead>\n",
       "  <tbody>\n",
       "    <tr>\n",
       "      <th>NumPassengers</th>\n",
       "      <td>1.000000</td>\n",
       "      <td>0.600541</td>\n",
       "      <td>0.997682</td>\n",
       "    </tr>\n",
       "    <tr>\n",
       "      <th>t</th>\n",
       "      <td>0.600541</td>\n",
       "      <td>1.000000</td>\n",
       "      <td>0.592591</td>\n",
       "    </tr>\n",
       "    <tr>\n",
       "      <th>log(Numpassengers)</th>\n",
       "      <td>0.997682</td>\n",
       "      <td>0.592591</td>\n",
       "      <td>1.000000</td>\n",
       "    </tr>\n",
       "  </tbody>\n",
       "</table>\n",
       "</div>"
      ],
      "text/plain": [
       "                    NumPassengers         t  log(Numpassengers)\n",
       "NumPassengers            1.000000  0.600541            0.997682\n",
       "t                        0.600541  1.000000            0.592591\n",
       "log(Numpassengers)       0.997682  0.592591            1.000000"
      ]
     },
     "execution_count": 12,
     "metadata": {},
     "output_type": "execute_result"
    }
   ],
   "source": [
    "Amtrak.corr()"
   ]
  },
  {
   "cell_type": "code",
   "execution_count": null,
   "metadata": {},
   "outputs": [],
   "source": []
  }
 ],
 "metadata": {
  "kernelspec": {
   "display_name": "Python 3",
   "language": "python",
   "name": "python3"
  },
  "language_info": {
   "codemirror_mode": {
    "name": "ipython",
    "version": 3
   },
   "file_extension": ".py",
   "mimetype": "text/x-python",
   "name": "python",
   "nbconvert_exporter": "python",
   "pygments_lexer": "ipython3",
   "version": "3.6.4"
  }
 },
 "nbformat": 4,
 "nbformat_minor": 2
}
